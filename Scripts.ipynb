{
 "cells": [
  {
   "cell_type": "markdown",
   "metadata": {},
   "source": [
    "# Scripts"
   ]
  },
  {
   "cell_type": "code",
   "execution_count": 1,
   "metadata": {},
   "outputs": [],
   "source": [
    "import requests\n",
    "from bs4 import BeautifulSoup"
   ]
  },
  {
   "cell_type": "code",
   "execution_count": 2,
   "metadata": {},
   "outputs": [],
   "source": [
    "def obtener_contenido_pagina(url):\n",
    "    response = requests.get(url)\n",
    "    return response.content"
   ]
  },
  {
   "cell_type": "code",
   "execution_count": 3,
   "metadata": {},
   "outputs": [],
   "source": [
    "def analizar_contenido_html(html):\n",
    "    return BeautifulSoup(html,\"html.parser\")"
   ]
  },
  {
   "cell_type": "code",
   "execution_count": 4,
   "metadata": {},
   "outputs": [
    {
     "ename": "AttributeError",
     "evalue": "'str' object has no attribute 'text'",
     "output_type": "error",
     "traceback": [
      "\u001b[1;31m---------------------------------------------------------------------------\u001b[0m",
      "\u001b[1;31mAttributeError\u001b[0m                            Traceback (most recent call last)",
      "Cell \u001b[1;32mIn[4], line 2\u001b[0m\n\u001b[0;32m      1\u001b[0m url \u001b[39m=\u001b[39m \u001b[39m\"\u001b[39m\u001b[39mhttps://www.cyberpuerta.mx/Promociones/\u001b[39m\u001b[39m\"\u001b[39m\n\u001b[1;32m----> 2\u001b[0m soup \u001b[39m=\u001b[39m BeautifulSoup(url\u001b[39m.\u001b[39;49mtext,\u001b[39m\"\u001b[39m\u001b[39mhtml.parser\u001b[39m\u001b[39m\"\u001b[39m)\n",
      "\u001b[1;31mAttributeError\u001b[0m: 'str' object has no attribute 'text'"
     ]
    }
   ],
   "source": [
    "url = \"https://www.cyberpuerta.mx/Promociones/\"\n",
    "soup = BeautifulSoup(url.text,\"html.parser\")"
   ]
  },
  {
   "cell_type": "code",
   "execution_count": 16,
   "metadata": {},
   "outputs": [],
   "source": [
    "data = []\n",
    "\n",
    "def procesar_pagina(soup):\n",
    "    titulos = []\n",
    "    precios_originales = []\n",
    "    precios_descuento = []\n",
    "    precios_envio = []\n",
    "    skus = []\n",
    "    stocks = []\n",
    "\n",
    "    titulo_items = soup.find_all(\"div\",class_=\"emproduct_right\")\n",
    "    \n",
    "    for item in titulo_items:\n",
    "        titulo = item.a.text.strip()\n",
    "        titulos.append(titulo)\n",
    "\n",
    "    precio_original_items = soup.find_all(\"span\", class_=\"oldPrice\")\n",
    "\n",
    "    for item in precio_original_items:\n",
    "        precio_original = item.text.strip()\n",
    "        precios_originales.append(precio_original)\n",
    "\n",
    "    precio_descuento_items = soup.find_all(\"div\", class_=\"emproduct_right_price_left\")\n",
    "\n",
    "    for item in precio_descuento_items:\n",
    "        precio_descuento = item.label.text.strip()\n",
    "        precios_descuento.append(precio_descuento)\n",
    "\n",
    "    sku_items = soup.find_all(\"div\", class_=\"emproduct_right_artnum\")\n",
    "\n",
    "    for item in sku_items:\n",
    "        sku = item.text.strip()\n",
    "        skus.append(sku)\n",
    "\n",
    "    precio_envio_items = soup.find_all(\"span\",class_={\"deliveryvalues\",\"deliverytextfree\"})\n",
    "\n",
    "    for item in precio_envio_items:\n",
    "        precio_envio = item.text\n",
    "        precios_envio.append(precio_envio)\n",
    "\n",
    "    stocks_items = soup.find_all(\"div\", class_=\"emstock\")\n",
    "\n",
    "    for item in stocks_items:\n",
    "        stock = item.text.strip()\n",
    "        stocks.append(stock[1])\n",
    "\n",
    "    \n",
    "    min_lenght = min(len(titulos),len(precios_originales),len(precios_descuento),len(precios_envio),len(skus),len(stocks))\n",
    "    \n",
    "    for i in range(min_lenght):\n",
    "        data.append({\n",
    "            \"Titulo\":titulos[i] if i< len(titulos) else None,\n",
    "            \"SKU\":skus[i] if i< len(skus) else None,\n",
    "            \"Precio original\":precios_originales[i] if i< len(precios_originales) else None,\n",
    "            \"Precio descuento\":precios_descuento[i] if i< len(precios_descuento) else None,\n",
    "            \"Precio Envio\":precios_envio[i] if i< len(precios_envio) else None,\n",
    "            \"Stock\": stocks[i] if i< len(stocks) else None})\n",
    "\n",
    "\n"
   ]
  },
  {
   "cell_type": "code",
   "execution_count": 18,
   "metadata": {},
   "outputs": [],
   "source": [
    "def manejar_paginacion(url_base,num_paginas):\n",
    "\n",
    "    #url_base = \"https://www.cyberpuerta.mx/Promociones/\"\n",
    "\n",
    "    for i in range(1,num_paginas + 1):\n",
    "        url = url_base +str(i)+\"/\"\n",
    "        contenido_pagina = obtener_contenido_pagina(url)\n",
    "        soup = analizar_contenido_html(contenido_pagina)\n",
    "        procesar_pagina(soup)\n",
    "\n"
   ]
  },
  {
   "cell_type": "code",
   "execution_count": 19,
   "metadata": {},
   "outputs": [],
   "source": [
    "url_base = \"https://www.cyberpuerta.mx/Promociones/\"\n",
    "num_paginas = 10\n",
    "manejar_paginacion(url_base,num_paginas)"
   ]
  },
  {
   "cell_type": "code",
   "execution_count": 21,
   "metadata": {},
   "outputs": [
    {
     "data": {
      "text/html": [
       "<div>\n",
       "<style scoped>\n",
       "    .dataframe tbody tr th:only-of-type {\n",
       "        vertical-align: middle;\n",
       "    }\n",
       "\n",
       "    .dataframe tbody tr th {\n",
       "        vertical-align: top;\n",
       "    }\n",
       "\n",
       "    .dataframe thead th {\n",
       "        text-align: right;\n",
       "    }\n",
       "</style>\n",
       "<table border=\"1\" class=\"dataframe\">\n",
       "  <thead>\n",
       "    <tr style=\"text-align: right;\">\n",
       "      <th></th>\n",
       "      <th>Titulo</th>\n",
       "      <th>SKU</th>\n",
       "      <th>Precio original</th>\n",
       "      <th>Precio descuento</th>\n",
       "      <th>Precio Envio</th>\n",
       "      <th>Stock</th>\n",
       "    </tr>\n",
       "  </thead>\n",
       "  <tbody>\n",
       "    <tr>\n",
       "      <th>0</th>\n",
       "      <td>Memoria RAM HPE DDR4, 2933MHz, 16GB, CL21, Dua...</td>\n",
       "      <td>SKU: P00922-B21</td>\n",
       "      <td>$13,644.00</td>\n",
       "      <td>$3,929.00</td>\n",
       "      <td>Envío gratis</td>\n",
       "      <td>i</td>\n",
       "    </tr>\n",
       "    <tr>\n",
       "      <th>1</th>\n",
       "      <td>Vorago Silla Gamer CGC500, hasta 120kg, Negro/...</td>\n",
       "      <td>SKU: CGC-500/BL</td>\n",
       "      <td>$3,641.00</td>\n",
       "      <td>$2,949.00</td>\n",
       "      <td>Envío gratis</td>\n",
       "      <td>i</td>\n",
       "    </tr>\n",
       "  </tbody>\n",
       "</table>\n",
       "</div>"
      ],
      "text/plain": [
       "                                              Titulo              SKU  \\\n",
       "0  Memoria RAM HPE DDR4, 2933MHz, 16GB, CL21, Dua...  SKU: P00922-B21   \n",
       "1  Vorago Silla Gamer CGC500, hasta 120kg, Negro/...  SKU: CGC-500/BL   \n",
       "\n",
       "  Precio original Precio descuento  Precio Envio Stock  \n",
       "0      $13,644.00        $3,929.00  Envío gratis     i  \n",
       "1       $3,641.00        $2,949.00  Envío gratis     i  "
      ]
     },
     "execution_count": 21,
     "metadata": {},
     "output_type": "execute_result"
    }
   ],
   "source": [
    "import pandas as pd\n",
    "df = pd.DataFrame(data)\n",
    "df"
   ]
  },
  {
   "cell_type": "code",
   "execution_count": 22,
   "metadata": {},
   "outputs": [],
   "source": [
    "import datetime\n",
    "fecha_actual = datetime.datetime.now().strftime(\"%d-%m-%Y\")\n",
    "\n",
    "df.to_csv(f\"./dataset/Cyberpuerta-WebScrap-{fecha_actual}.csv\",index=False)"
   ]
  }
 ],
 "metadata": {
  "kernelspec": {
   "display_name": "Python 3",
   "language": "python",
   "name": "python3"
  },
  "language_info": {
   "codemirror_mode": {
    "name": "ipython",
    "version": 3
   },
   "file_extension": ".py",
   "mimetype": "text/x-python",
   "name": "python",
   "nbconvert_exporter": "python",
   "pygments_lexer": "ipython3",
   "version": "3.11.4"
  },
  "orig_nbformat": 4
 },
 "nbformat": 4,
 "nbformat_minor": 2
}
