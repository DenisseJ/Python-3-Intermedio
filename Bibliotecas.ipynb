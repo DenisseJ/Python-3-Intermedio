{
 "cells": [
  {
   "attachments": {},
   "cell_type": "markdown",
   "metadata": {},
   "source": [
    "# Numpy"
   ]
  },
  {
   "cell_type": "code",
   "execution_count": 1,
   "metadata": {},
   "outputs": [
    {
     "name": "stdout",
     "output_type": "stream",
     "text": [
      "Requirement already satisfied: numpy in c:\\python311\\lib\\site-packages (1.25.0)\n",
      "Note: you may need to restart the kernel to use updated packages.\n"
     ]
    }
   ],
   "source": [
    "pip install numpy"
   ]
  },
  {
   "cell_type": "code",
   "execution_count": 2,
   "metadata": {},
   "outputs": [],
   "source": [
    "import numpy as np"
   ]
  },
  {
   "attachments": {},
   "cell_type": "markdown",
   "metadata": {},
   "source": [
    "### Arreglos"
   ]
  },
  {
   "cell_type": "code",
   "execution_count": 3,
   "metadata": {},
   "outputs": [
    {
     "name": "stdout",
     "output_type": "stream",
     "text": [
      "[1 2 3]\n"
     ]
    }
   ],
   "source": [
    "arr = np.array([1,2,3])\n",
    "\n",
    "print(arr)"
   ]
  },
  {
   "cell_type": "code",
   "execution_count": 4,
   "metadata": {},
   "outputs": [
    {
     "name": "stdout",
     "output_type": "stream",
     "text": [
      "[[1 2 3]\n",
      " [4 5 6]]\n"
     ]
    }
   ],
   "source": [
    "arr = np.array(([1,2,3],[4,5,6]))\n",
    "print(arr)"
   ]
  },
  {
   "cell_type": "code",
   "execution_count": 5,
   "metadata": {},
   "outputs": [
    {
     "name": "stdout",
     "output_type": "stream",
     "text": [
      "[[1 2 3]\n",
      " [4 5 6]\n",
      " [7 8 9]]\n"
     ]
    }
   ],
   "source": [
    "arr = np.array(([1,2,3],[4,5,6],[7,8,9]))\n",
    "print(arr)"
   ]
  },
  {
   "cell_type": "code",
   "execution_count": 6,
   "metadata": {},
   "outputs": [
    {
     "name": "stdout",
     "output_type": "stream",
     "text": [
      "3\n",
      "[[[1 2 3 4 5 6]]]\n",
      "[[1 2 3 4 5 6]]\n",
      "[1 2 3 4 5 6]\n",
      "1\n"
     ]
    }
   ],
   "source": [
    "arr = np.array([1,2,3,4,5,6], ndmin=3)\n",
    "print(arr.ndim) #Propiedad dimensión\n",
    "print(arr)\n",
    "print(arr[0])\n",
    "print(arr[0][0])\n",
    "print(arr[0][0][0])"
   ]
  },
  {
   "cell_type": "code",
   "execution_count": 12,
   "metadata": {},
   "outputs": [
    {
     "name": "stdout",
     "output_type": "stream",
     "text": [
      "[[0. 0.]\n",
      " [0. 0.]]\n"
     ]
    }
   ],
   "source": [
    "arr = np.zeros((2,2))\n",
    "print(arr)"
   ]
  },
  {
   "cell_type": "code",
   "execution_count": 9,
   "metadata": {},
   "outputs": [
    {
     "name": "stdout",
     "output_type": "stream",
     "text": [
      "[[1. 1. 1.]\n",
      " [1. 1. 1.]\n",
      " [1. 1. 1.]]\n"
     ]
    }
   ],
   "source": [
    "arr = np.ones((3,3))\n",
    "print(arr)"
   ]
  },
  {
   "cell_type": "code",
   "execution_count": 10,
   "metadata": {},
   "outputs": [
    {
     "name": "stdout",
     "output_type": "stream",
     "text": [
      "[[0.54926355 0.30849339 0.42340303]\n",
      " [0.22142018 0.1214385  0.28110756]\n",
      " [0.74504948 0.15098718 0.25804592]]\n"
     ]
    }
   ],
   "source": [
    "arr = np.random.rand(3,3)\n",
    "print(arr)"
   ]
  },
  {
   "attachments": {},
   "cell_type": "markdown",
   "metadata": {},
   "source": [
    "### Operaciones"
   ]
  },
  {
   "cell_type": "code",
   "execution_count": 13,
   "metadata": {},
   "outputs": [
    {
     "name": "stdout",
     "output_type": "stream",
     "text": [
      "[5 7 9]\n"
     ]
    }
   ],
   "source": [
    "arr1 = [1,2,3]\n",
    "arr2 = [4,5,6]\n",
    "arr3 = np.add(arr1,arr2)\n",
    "print(arr3)"
   ]
  },
  {
   "cell_type": "code",
   "execution_count": 16,
   "metadata": {},
   "outputs": [
    {
     "name": "stdout",
     "output_type": "stream",
     "text": [
      "[3 3 3]\n"
     ]
    }
   ],
   "source": [
    "arr1 = [1,2,3]\n",
    "arr2 = [4,5,6]\n",
    "arr3=np.subtract(arr2,arr1)\n",
    "print(arr3)"
   ]
  },
  {
   "cell_type": "code",
   "execution_count": 17,
   "metadata": {},
   "outputs": [
    {
     "name": "stdout",
     "output_type": "stream",
     "text": [
      "[ 4 10 18]\n"
     ]
    }
   ],
   "source": [
    "arr1 = [1,2,3]\n",
    "arr2 = [4,5,6]\n",
    "arr3=np.multiply(arr2,arr1)\n",
    "print(arr3)"
   ]
  },
  {
   "cell_type": "code",
   "execution_count": 18,
   "metadata": {},
   "outputs": [
    {
     "name": "stdout",
     "output_type": "stream",
     "text": [
      "[0.25 0.4  0.5 ]\n"
     ]
    }
   ],
   "source": [
    "arr1 = [1,2,3]\n",
    "arr2 = [4,5,6]\n",
    "arr3=np.divide(arr1,arr2)\n",
    "print(arr3)"
   ]
  },
  {
   "attachments": {},
   "cell_type": "markdown",
   "metadata": {},
   "source": [
    "### Agregación (Media, mediana, moda, etc...)"
   ]
  },
  {
   "cell_type": "code",
   "execution_count": 20,
   "metadata": {},
   "outputs": [
    {
     "name": "stdout",
     "output_type": "stream",
     "text": [
      "4.333333333333333\n"
     ]
    }
   ],
   "source": [
    "arr = [1,5,7]\n",
    "media = np.mean(arr)\n",
    "print(media)"
   ]
  },
  {
   "cell_type": "code",
   "execution_count": 21,
   "metadata": {},
   "outputs": [
    {
     "name": "stdout",
     "output_type": "stream",
     "text": [
      "5.0\n"
     ]
    }
   ],
   "source": [
    "arr = [1,5,7]\n",
    "mediana = np.median(arr)\n",
    "print(mediana)"
   ]
  },
  {
   "cell_type": "code",
   "execution_count": 22,
   "metadata": {},
   "outputs": [
    {
     "name": "stdout",
     "output_type": "stream",
     "text": [
      "7\n"
     ]
    }
   ],
   "source": [
    "arr = [1,5,7]\n",
    "maximo = np.max(arr)\n",
    "print(maximo)"
   ]
  },
  {
   "cell_type": "code",
   "execution_count": 23,
   "metadata": {},
   "outputs": [
    {
     "name": "stdout",
     "output_type": "stream",
     "text": [
      "1\n"
     ]
    }
   ],
   "source": [
    "arr = [1,5,7]\n",
    "minimo = np.min(arr)\n",
    "print(minimo)"
   ]
  },
  {
   "attachments": {},
   "cell_type": "markdown",
   "metadata": {},
   "source": [
    "### Indexación"
   ]
  },
  {
   "cell_type": "code",
   "execution_count": 24,
   "metadata": {},
   "outputs": [
    {
     "name": "stdout",
     "output_type": "stream",
     "text": [
      "1\n"
     ]
    }
   ],
   "source": [
    "arr = np.array([1,2,3,4,5,6])\n",
    "print(arr[0])"
   ]
  },
  {
   "cell_type": "code",
   "execution_count": 25,
   "metadata": {},
   "outputs": [
    {
     "name": "stdout",
     "output_type": "stream",
     "text": [
      "6\n"
     ]
    }
   ],
   "source": [
    "arr = np.array([1,2,3,4,5,6])\n",
    "print(arr[-1])"
   ]
  },
  {
   "cell_type": "code",
   "execution_count": 28,
   "metadata": {},
   "outputs": [
    {
     "name": "stdout",
     "output_type": "stream",
     "text": [
      "6\n"
     ]
    }
   ],
   "source": [
    "arr = np.array(([1,2,3],[4,5,6]))\n",
    "print(arr[1,2])"
   ]
  },
  {
   "attachments": {},
   "cell_type": "markdown",
   "metadata": {},
   "source": [
    "### Slicing"
   ]
  },
  {
   "cell_type": "code",
   "execution_count": 30,
   "metadata": {},
   "outputs": [
    {
     "name": "stdout",
     "output_type": "stream",
     "text": [
      "[2 3 4]\n"
     ]
    }
   ],
   "source": [
    "arr = np.array([1,2,3,4,5,6])\n",
    "print(arr[1:4])"
   ]
  },
  {
   "cell_type": "code",
   "execution_count": 31,
   "metadata": {},
   "outputs": [
    {
     "name": "stdout",
     "output_type": "stream",
     "text": [
      "[2 4]\n"
     ]
    }
   ],
   "source": [
    "arr = np.array([1,2,3,4,5,6])\n",
    "print(arr[1:4:2])"
   ]
  },
  {
   "cell_type": "code",
   "execution_count": 35,
   "metadata": {},
   "outputs": [
    {
     "name": "stdout",
     "output_type": "stream",
     "text": [
      "[1 3 5]\n"
     ]
    }
   ],
   "source": [
    "arr = np.array([1,2,3,4,5,6])\n",
    "print(arr[::2])"
   ]
  },
  {
   "attachments": {},
   "cell_type": "markdown",
   "metadata": {},
   "source": [
    "### Tipos de datos"
   ]
  },
  {
   "cell_type": "code",
   "execution_count": 2,
   "metadata": {},
   "outputs": [
    {
     "name": "stdout",
     "output_type": "stream",
     "text": [
      "<U1\n"
     ]
    }
   ],
   "source": [
    "import numpy as np\n",
    "arr = np.array([\"b\",\"a\"])\n",
    "print(arr.dtype)"
   ]
  },
  {
   "cell_type": "code",
   "execution_count": 3,
   "metadata": {},
   "outputs": [
    {
     "name": "stdout",
     "output_type": "stream",
     "text": [
      "int32\n"
     ]
    }
   ],
   "source": [
    "arr = np.array([1,2])\n",
    "print(arr.dtype)"
   ]
  },
  {
   "cell_type": "code",
   "execution_count": 4,
   "metadata": {},
   "outputs": [
    {
     "name": "stdout",
     "output_type": "stream",
     "text": [
      "float64\n"
     ]
    }
   ],
   "source": [
    "arr = np.array([1.4,2.5])\n",
    "print(arr.dtype)"
   ]
  },
  {
   "cell_type": "code",
   "execution_count": 5,
   "metadata": {},
   "outputs": [
    {
     "name": "stdout",
     "output_type": "stream",
     "text": [
      "[b'1' b'2' b'3']\n"
     ]
    }
   ],
   "source": [
    "arr = np.array([1,2,3],dtype = \"S\")\n",
    "# \"i\" = integer(entero)\n",
    "# \"b\" = boolenao\n",
    "# \"f\" = flotante\n",
    "# \"M\" = datetime\n",
    "# \"O\" = objeto\n",
    "# \"S\"= string\n",
    "print(arr)"
   ]
  },
  {
   "cell_type": "code",
   "execution_count": 7,
   "metadata": {},
   "outputs": [
    {
     "name": "stdout",
     "output_type": "stream",
     "text": [
      "pre [1.1 2.1 3.1]\n",
      "post [1 2 3]\n"
     ]
    }
   ],
   "source": [
    "arr = np.array([1.1,2.1,3.1])\n",
    "print(\"pre\", arr)\n",
    "nuevo_arr= arr.astype(\"i\")\n",
    "print(\"post\",nuevo_arr)"
   ]
  },
  {
   "attachments": {},
   "cell_type": "markdown",
   "metadata": {},
   "source": [
    "### Copy vs View"
   ]
  },
  {
   "cell_type": "code",
   "execution_count": 8,
   "metadata": {},
   "outputs": [
    {
     "name": "stdout",
     "output_type": "stream",
     "text": [
      "arr [1 2 3]\n",
      "x [1 2 3]\n",
      "y [1 2 3]\n",
      "arr [0 2 3]\n",
      "x [1 2 3]\n",
      "y [0 2 3]\n"
     ]
    }
   ],
   "source": [
    "arr = np.array([1,2,3])\n",
    "x = arr.copy() \n",
    "y = arr.view() # Vista o reflejo \n",
    "\n",
    "print(\"arr\",arr)\n",
    "print(\"x\",x)\n",
    "print(\"y\",y) \n",
    "\n",
    "arr[0]=0\n",
    "\n",
    "print(\"arr\",arr)\n",
    "print(\"x\",x)\n",
    "print(\"y\",y)"
   ]
  },
  {
   "cell_type": "code",
   "execution_count": 9,
   "metadata": {},
   "outputs": [
    {
     "name": "stdout",
     "output_type": "stream",
     "text": [
      "arr [1 2 4]\n",
      "x [1 2 4]\n"
     ]
    }
   ],
   "source": [
    "arr = np.array([1,2,4])\n",
    "print(\"arr\",arr)\n",
    "x= arr.view()\n",
    "print(\"x\",x)"
   ]
  },
  {
   "attachments": {},
   "cell_type": "markdown",
   "metadata": {},
   "source": [
    "### Concatenar"
   ]
  },
  {
   "cell_type": "code",
   "execution_count": 10,
   "metadata": {},
   "outputs": [
    {
     "name": "stdout",
     "output_type": "stream",
     "text": [
      "arr1 [1 2 3]\n",
      "arr2 [4 5 6]\n",
      "arr3 [1 2 3 4 5 6]\n"
     ]
    }
   ],
   "source": [
    "arr1 = np.array([1,2,3])\n",
    "print(\"arr1\",arr1)\n",
    "arr2 = np.array([4,5,6])\n",
    "print(\"arr2\",arr2)\n",
    "arr3=np.concatenate((arr1,arr2))\n",
    "print(\"arr3\",arr3)"
   ]
  },
  {
   "attachments": {},
   "cell_type": "markdown",
   "metadata": {},
   "source": [
    "### Busqueda"
   ]
  },
  {
   "cell_type": "code",
   "execution_count": 13,
   "metadata": {},
   "outputs": [
    {
     "name": "stdout",
     "output_type": "stream",
     "text": [
      "(array([1, 2], dtype=int64),)\n"
     ]
    }
   ],
   "source": [
    "arr = np.array([1,2,2,4,5,5,4])\n",
    "x = np.where(arr == 2) # Devuelve indice donde hay 2 y tipo de dato\n",
    "print(x)"
   ]
  },
  {
   "attachments": {},
   "cell_type": "markdown",
   "metadata": {},
   "source": [
    "### Ordenar"
   ]
  },
  {
   "cell_type": "code",
   "execution_count": 12,
   "metadata": {},
   "outputs": [
    {
     "name": "stdout",
     "output_type": "stream",
     "text": [
      "[1 2 3 4 5 6]\n"
     ]
    }
   ],
   "source": [
    "arr = np.array([2,5,6,4,1,3])\n",
    "x = np.sort(arr)\n",
    "print(x)"
   ]
  },
  {
   "attachments": {},
   "cell_type": "markdown",
   "metadata": {},
   "source": [
    "# Pandas"
   ]
  },
  {
   "cell_type": "code",
   "execution_count": 19,
   "metadata": {},
   "outputs": [
    {
     "name": "stdout",
     "output_type": "stream",
     "text": [
      "Requirement already satisfied: pandas in c:\\python311\\lib\\site-packages (2.0.3)\n",
      "Requirement already satisfied: python-dateutil>=2.8.2 in c:\\users\\denis\\appdata\\roaming\\python\\python311\\site-packages (from pandas) (2.8.2)\n",
      "Requirement already satisfied: pytz>=2020.1 in c:\\python311\\lib\\site-packages (from pandas) (2023.3)\n",
      "Requirement already satisfied: tzdata>=2022.1 in c:\\python311\\lib\\site-packages (from pandas) (2023.3)\n",
      "Requirement already satisfied: numpy>=1.21.0 in c:\\python311\\lib\\site-packages (from pandas) (1.25.0)\n",
      "Requirement already satisfied: six>=1.5 in c:\\users\\denis\\appdata\\roaming\\python\\python311\\site-packages (from python-dateutil>=2.8.2->pandas) (1.16.0)\n",
      "Note: you may need to restart the kernel to use updated packages.\n"
     ]
    }
   ],
   "source": [
    "pip install pandas"
   ]
  },
  {
   "cell_type": "code",
   "execution_count": 20,
   "metadata": {},
   "outputs": [],
   "source": [
    "import pandas as pd"
   ]
  },
  {
   "attachments": {},
   "cell_type": "markdown",
   "metadata": {},
   "source": [
    "### Series"
   ]
  },
  {
   "cell_type": "code",
   "execution_count": 21,
   "metadata": {},
   "outputs": [
    {
     "name": "stdout",
     "output_type": "stream",
     "text": [
      "0    1\n",
      "1    2\n",
      "2    3\n",
      "dtype: int32\n",
      "1\n"
     ]
    }
   ],
   "source": [
    "a = np.array([1,2,3])\n",
    "srs = pd.Series(a)  # Da un indice a los datos\n",
    "print(srs)\n",
    "print(srs[0])"
   ]
  },
  {
   "cell_type": "code",
   "execution_count": 22,
   "metadata": {},
   "outputs": [
    {
     "name": "stdout",
     "output_type": "stream",
     "text": [
      "x    1\n",
      "y    2\n",
      "z    3\n",
      "dtype: int32\n",
      "1\n"
     ]
    }
   ],
   "source": [
    "srs = pd.Series(a,index = [\"x\",\"y\",\"z\"]) # Personalizar índice\n",
    "print(srs)\n",
    "print(srs[\"x\"])"
   ]
  },
  {
   "cell_type": "code",
   "execution_count": 23,
   "metadata": {},
   "outputs": [
    {
     "name": "stdout",
     "output_type": "stream",
     "text": [
      "lunes        440\n",
      "martes       620\n",
      "miercoles    700\n",
      "jueves       500\n",
      "viernes      150\n",
      "dtype: int64\n"
     ]
    }
   ],
   "source": [
    "pasos = {\n",
    "    \"lunes\" : 440,\n",
    "    \"martes\" : 620,\n",
    "    \"miercoles\" : 700,\n",
    "    \"jueves\" : 500,\n",
    "    \"viernes\" : 150\n",
    "    }\n",
    "srs = pd.Series(pasos)\n",
    "print(srs)"
   ]
  },
  {
   "cell_type": "code",
   "execution_count": 24,
   "metadata": {},
   "outputs": [
    {
     "name": "stdout",
     "output_type": "stream",
     "text": [
      "lunes        440\n",
      "miercoles    700\n",
      "viernes      150\n",
      "dtype: int64\n"
     ]
    }
   ],
   "source": [
    "srs = pd.Series(pasos,index=[\"lunes\",\"miercoles\",\"viernes\"])\n",
    "print(srs)"
   ]
  },
  {
   "attachments": {},
   "cell_type": "markdown",
   "metadata": {},
   "source": [
    "### Dataframe"
   ]
  },
  {
   "cell_type": "code",
   "execution_count": 32,
   "metadata": {},
   "outputs": [
    {
     "name": "stdout",
     "output_type": "stream",
     "text": [
      "      operador  no. reloj\n",
      "0     John Doe        101\n",
      "1        Sr. X        202\n",
      "2  Lorem ipsum        303\n"
     ]
    }
   ],
   "source": [
    "mydataset= {\n",
    "    \"operador\" : [\"John Doe\",\"Sr. X\",\"Lorem ipsum\"],\n",
    "    \"no. reloj\" : [101,202,303]\n",
    "}\n",
    "df = pd.DataFrame(mydataset)\n",
    "print(df)"
   ]
  },
  {
   "cell_type": "code",
   "execution_count": 33,
   "metadata": {},
   "outputs": [
    {
     "data": {
      "text/plain": [
       "0    101\n",
       "1    202\n",
       "2    303\n",
       "Name: no. reloj, dtype: int64"
      ]
     },
     "execution_count": 33,
     "metadata": {},
     "output_type": "execute_result"
    }
   ],
   "source": [
    "df[\"no. reloj\"]"
   ]
  },
  {
   "cell_type": "code",
   "execution_count": 34,
   "metadata": {},
   "outputs": [
    {
     "data": {
      "text/html": [
       "<div>\n",
       "<style scoped>\n",
       "    .dataframe tbody tr th:only-of-type {\n",
       "        vertical-align: middle;\n",
       "    }\n",
       "\n",
       "    .dataframe tbody tr th {\n",
       "        vertical-align: top;\n",
       "    }\n",
       "\n",
       "    .dataframe thead th {\n",
       "        text-align: right;\n",
       "    }\n",
       "</style>\n",
       "<table border=\"1\" class=\"dataframe\">\n",
       "  <thead>\n",
       "    <tr style=\"text-align: right;\">\n",
       "      <th></th>\n",
       "      <th>operador</th>\n",
       "      <th>no. reloj</th>\n",
       "    </tr>\n",
       "  </thead>\n",
       "  <tbody>\n",
       "    <tr>\n",
       "      <th>1</th>\n",
       "      <td>Sr. X</td>\n",
       "      <td>202</td>\n",
       "    </tr>\n",
       "    <tr>\n",
       "      <th>2</th>\n",
       "      <td>Lorem ipsum</td>\n",
       "      <td>303</td>\n",
       "    </tr>\n",
       "  </tbody>\n",
       "</table>\n",
       "</div>"
      ],
      "text/plain": [
       "      operador  no. reloj\n",
       "1        Sr. X        202\n",
       "2  Lorem ipsum        303"
      ]
     },
     "execution_count": 34,
     "metadata": {},
     "output_type": "execute_result"
    }
   ],
   "source": [
    "df[df[\"no. reloj\"] > 101]\n"
   ]
  },
  {
   "cell_type": "code",
   "execution_count": 35,
   "metadata": {},
   "outputs": [],
   "source": [
    "df[\"asistencia\"] = [True,False,True]"
   ]
  },
  {
   "cell_type": "code",
   "execution_count": 36,
   "metadata": {},
   "outputs": [
    {
     "name": "stdout",
     "output_type": "stream",
     "text": [
      "      operador  no. reloj  asistencia\n",
      "0     John Doe        101        True\n",
      "1        Sr. X        202       False\n",
      "2  Lorem ipsum        303        True\n"
     ]
    }
   ],
   "source": [
    "print(df)"
   ]
  },
  {
   "cell_type": "code",
   "execution_count": 41,
   "metadata": {},
   "outputs": [
    {
     "name": "stdout",
     "output_type": "stream",
     "text": [
      "operador      Lorem ipsum\n",
      "no. reloj             303\n",
      "asistencia           True\n",
      "Name: 2, dtype: object\n"
     ]
    }
   ],
   "source": [
    "print(df.loc[2]) # Traer datos en indice 2"
   ]
  },
  {
   "cell_type": "code",
   "execution_count": 42,
   "metadata": {},
   "outputs": [
    {
     "name": "stdout",
     "output_type": "stream",
     "text": [
      "   operador  no. reloj  asistencia\n",
      "0  John Doe        101        True\n",
      "1     Sr. X        202       False\n"
     ]
    }
   ],
   "source": [
    "print(df.loc[[0,1]]) # Traer un rango de datos"
   ]
  },
  {
   "cell_type": "code",
   "execution_count": 43,
   "metadata": {},
   "outputs": [
    {
     "name": "stdout",
     "output_type": "stream",
     "text": [
      "        operador  no. reloj\n",
      "CEO     John Doe        101\n",
      "COO        Sr. X        202\n",
      "CFO  Lorem ipsum        303\n"
     ]
    }
   ],
   "source": [
    "df = pd.DataFrame(mydataset, index = [\"CEO\",\"COO\",\"CFO\"])\n",
    "print(df)"
   ]
  },
  {
   "cell_type": "code",
   "execution_count": 44,
   "metadata": {},
   "outputs": [
    {
     "name": "stdout",
     "output_type": "stream",
     "text": [
      "operador     John Doe\n",
      "no. reloj         101\n",
      "Name: CEO, dtype: object\n"
     ]
    }
   ],
   "source": [
    "print(df.loc[\"CEO\"])"
   ]
  },
  {
   "cell_type": "code",
   "execution_count": 45,
   "metadata": {},
   "outputs": [
    {
     "name": "stdout",
     "output_type": "stream",
     "text": [
      "     operador  no. reloj\n",
      "CEO  John Doe        101\n",
      "COO     Sr. X        202\n"
     ]
    }
   ],
   "source": [
    "print(df.loc[[\"CEO\",\"COO\"]])"
   ]
  },
  {
   "attachments": {},
   "cell_type": "markdown",
   "metadata": {},
   "source": [
    "### Vistas"
   ]
  },
  {
   "cell_type": "code",
   "execution_count": 57,
   "metadata": {},
   "outputs": [],
   "source": [
    "df = pd.read_csv(\"../Python 3 Intermedio/dataset/Perfil de estudiante.csv\")"
   ]
  },
  {
   "cell_type": "code",
   "execution_count": 63,
   "metadata": {},
   "outputs": [
    {
     "data": {
      "text/html": [
       "<div>\n",
       "<style scoped>\n",
       "    .dataframe tbody tr th:only-of-type {\n",
       "        vertical-align: middle;\n",
       "    }\n",
       "\n",
       "    .dataframe tbody tr th {\n",
       "        vertical-align: top;\n",
       "    }\n",
       "\n",
       "    .dataframe thead th {\n",
       "        text-align: right;\n",
       "    }\n",
       "</style>\n",
       "<table border=\"1\" class=\"dataframe\">\n",
       "  <thead>\n",
       "    <tr style=\"text-align: right;\">\n",
       "      <th></th>\n",
       "      <th>Marca temporal</th>\n",
       "      <th>1.- ¿De dónde eres?</th>\n",
       "      <th>2.- ¿Cuántos años tienes?</th>\n",
       "      <th>3.- ¿Estudias?</th>\n",
       "      <th>4.- ¿Trabajas?</th>\n",
       "      <th>5.- ¿Cuál es tu nivel de conocimiento en Python?</th>\n",
       "      <th>6.- ¿Qué tema relacionado con Python te gustaría aprender?</th>\n",
       "      <th>7.- ¿Has participado en algún curso anteriormente en el IA Center?</th>\n",
       "      <th>8.- ¿Cuál es tu canción favorita?</th>\n",
       "    </tr>\n",
       "  </thead>\n",
       "  <tbody>\n",
       "    <tr>\n",
       "      <th>0</th>\n",
       "      <td>2023/06/27 7:42:12 p. m. GMT-6</td>\n",
       "      <td>Cd. Juárez</td>\n",
       "      <td>Entre 21 y 24</td>\n",
       "      <td>Sí</td>\n",
       "      <td>No</td>\n",
       "      <td>Básico</td>\n",
       "      <td>Manejar bases de datos</td>\n",
       "      <td>No</td>\n",
       "      <td>The Wolf</td>\n",
       "    </tr>\n",
       "    <tr>\n",
       "      <th>1</th>\n",
       "      <td>2023/06/27 7:42:28 p. m. GMT-6</td>\n",
       "      <td>chihuahua, chihuahua</td>\n",
       "      <td>Entre 21 y 24</td>\n",
       "      <td>Sí</td>\n",
       "      <td>Sí</td>\n",
       "      <td>Básico</td>\n",
       "      <td>machine lerning</td>\n",
       "      <td>Sí</td>\n",
       "      <td>eternity, anyma</td>\n",
       "    </tr>\n",
       "    <tr>\n",
       "      <th>2</th>\n",
       "      <td>2023/06/27 7:42:44 p. m. GMT-6</td>\n",
       "      <td>Chihuahua Chihuahua</td>\n",
       "      <td>Entre 18 y 20</td>\n",
       "      <td>Sí</td>\n",
       "      <td>Sí</td>\n",
       "      <td>Básico</td>\n",
       "      <td>Automatización y creación de apps/páginas web</td>\n",
       "      <td>No</td>\n",
       "      <td>Cornerstone- Arctic Monkeys :)</td>\n",
       "    </tr>\n",
       "  </tbody>\n",
       "</table>\n",
       "</div>"
      ],
      "text/plain": [
       "                   Marca temporal   1.- ¿De dónde eres?  \\\n",
       "0  2023/06/27 7:42:12 p. m. GMT-6            Cd. Juárez   \n",
       "1  2023/06/27 7:42:28 p. m. GMT-6  chihuahua, chihuahua   \n",
       "2  2023/06/27 7:42:44 p. m. GMT-6   Chihuahua Chihuahua   \n",
       "\n",
       "  2.- ¿Cuántos años tienes? 3.- ¿Estudias? 4.- ¿Trabajas?  \\\n",
       "0             Entre 21 y 24             Sí             No   \n",
       "1             Entre 21 y 24             Sí             Sí   \n",
       "2             Entre 18 y 20             Sí             Sí   \n",
       "\n",
       "  5.- ¿Cuál es tu nivel de conocimiento en Python?  \\\n",
       "0                                           Básico   \n",
       "1                                           Básico   \n",
       "2                                           Básico   \n",
       "\n",
       "  6.- ¿Qué tema relacionado con Python te gustaría aprender?  \\\n",
       "0                             Manejar bases de datos           \n",
       "1                                    machine lerning           \n",
       "2      Automatización y creación de apps/páginas web           \n",
       "\n",
       "  7.- ¿Has participado en algún curso anteriormente en el IA Center?  \\\n",
       "0                                                 No                   \n",
       "1                                                 Sí                   \n",
       "2                                                 No                   \n",
       "\n",
       "  8.- ¿Cuál es tu canción favorita?  \n",
       "0                          The Wolf  \n",
       "1                   eternity, anyma  \n",
       "2    Cornerstone- Arctic Monkeys :)  "
      ]
     },
     "execution_count": 63,
     "metadata": {},
     "output_type": "execute_result"
    }
   ],
   "source": [
    "df.head(3) # Sin nada adentro -> devuelve los 5 primeros registros "
   ]
  },
  {
   "cell_type": "code",
   "execution_count": 62,
   "metadata": {},
   "outputs": [
    {
     "data": {
      "text/html": [
       "<div>\n",
       "<style scoped>\n",
       "    .dataframe tbody tr th:only-of-type {\n",
       "        vertical-align: middle;\n",
       "    }\n",
       "\n",
       "    .dataframe tbody tr th {\n",
       "        vertical-align: top;\n",
       "    }\n",
       "\n",
       "    .dataframe thead th {\n",
       "        text-align: right;\n",
       "    }\n",
       "</style>\n",
       "<table border=\"1\" class=\"dataframe\">\n",
       "  <thead>\n",
       "    <tr style=\"text-align: right;\">\n",
       "      <th></th>\n",
       "      <th>Marca temporal</th>\n",
       "      <th>1.- ¿De dónde eres?</th>\n",
       "      <th>2.- ¿Cuántos años tienes?</th>\n",
       "      <th>3.- ¿Estudias?</th>\n",
       "      <th>4.- ¿Trabajas?</th>\n",
       "      <th>5.- ¿Cuál es tu nivel de conocimiento en Python?</th>\n",
       "      <th>6.- ¿Qué tema relacionado con Python te gustaría aprender?</th>\n",
       "      <th>7.- ¿Has participado en algún curso anteriormente en el IA Center?</th>\n",
       "      <th>8.- ¿Cuál es tu canción favorita?</th>\n",
       "    </tr>\n",
       "  </thead>\n",
       "  <tbody>\n",
       "    <tr>\n",
       "      <th>40</th>\n",
       "      <td>2023/06/28 10:12:04 p. m. GMT-6</td>\n",
       "      <td>Chihuahua</td>\n",
       "      <td>Entre 21 y 24</td>\n",
       "      <td>No</td>\n",
       "      <td>Sí</td>\n",
       "      <td>Básico</td>\n",
       "      <td>Machine Learning y Deep Learning</td>\n",
       "      <td>Sí</td>\n",
       "      <td>Runaway</td>\n",
       "    </tr>\n",
       "    <tr>\n",
       "      <th>41</th>\n",
       "      <td>2023/06/29 2:00:51 a. m. GMT-6</td>\n",
       "      <td>Vivo en Ciudad Juárez. Soy cubana</td>\n",
       "      <td>Más de 30</td>\n",
       "      <td>Sí</td>\n",
       "      <td>No</td>\n",
       "      <td>Intermedio</td>\n",
       "      <td>Cómo escribir un código de forma profesional, ...</td>\n",
       "      <td>No</td>\n",
       "      <td>Hay varias, pero últimamente escucho mucho \"Cu...</td>\n",
       "    </tr>\n",
       "    <tr>\n",
       "      <th>42</th>\n",
       "      <td>2023/07/03 1:55:24 p. m. GMT-6</td>\n",
       "      <td>Ciudad Juarez</td>\n",
       "      <td>Más de 30</td>\n",
       "      <td>No</td>\n",
       "      <td>Sí</td>\n",
       "      <td>Intermedio</td>\n",
       "      <td>Automatizacion</td>\n",
       "      <td>No</td>\n",
       "      <td>David Bowie - Heroes</td>\n",
       "    </tr>\n",
       "  </tbody>\n",
       "</table>\n",
       "</div>"
      ],
      "text/plain": [
       "                     Marca temporal                1.- ¿De dónde eres?  \\\n",
       "40  2023/06/28 10:12:04 p. m. GMT-6                          Chihuahua   \n",
       "41   2023/06/29 2:00:51 a. m. GMT-6  Vivo en Ciudad Juárez. Soy cubana   \n",
       "42   2023/07/03 1:55:24 p. m. GMT-6                      Ciudad Juarez   \n",
       "\n",
       "   2.- ¿Cuántos años tienes? 3.- ¿Estudias? 4.- ¿Trabajas?  \\\n",
       "40             Entre 21 y 24             No             Sí   \n",
       "41                 Más de 30             Sí             No   \n",
       "42                 Más de 30             No             Sí   \n",
       "\n",
       "   5.- ¿Cuál es tu nivel de conocimiento en Python?  \\\n",
       "40                                           Básico   \n",
       "41                                       Intermedio   \n",
       "42                                       Intermedio   \n",
       "\n",
       "   6.- ¿Qué tema relacionado con Python te gustaría aprender?  \\\n",
       "40                   Machine Learning y Deep Learning           \n",
       "41  Cómo escribir un código de forma profesional, ...           \n",
       "42                                     Automatizacion           \n",
       "\n",
       "   7.- ¿Has participado en algún curso anteriormente en el IA Center?  \\\n",
       "40                                                 Sí                   \n",
       "41                                                 No                   \n",
       "42                                                 No                   \n",
       "\n",
       "                    8.- ¿Cuál es tu canción favorita?  \n",
       "40                                            Runaway  \n",
       "41  Hay varias, pero últimamente escucho mucho \"Cu...  \n",
       "42                              David Bowie - Heroes   "
      ]
     },
     "execution_count": 62,
     "metadata": {},
     "output_type": "execute_result"
    }
   ],
   "source": [
    "df.tail(3) #Devuelve los ultimos 5 registros"
   ]
  },
  {
   "cell_type": "code",
   "execution_count": 64,
   "metadata": {},
   "outputs": [
    {
     "name": "stdout",
     "output_type": "stream",
     "text": [
      "<class 'pandas.core.frame.DataFrame'>\n",
      "RangeIndex: 43 entries, 0 to 42\n",
      "Data columns (total 9 columns):\n",
      " #   Column                                                              Non-Null Count  Dtype \n",
      "---  ------                                                              --------------  ----- \n",
      " 0   Marca temporal                                                      43 non-null     object\n",
      " 1   1.- ¿De dónde eres?                                                 43 non-null     object\n",
      " 2   2.- ¿Cuántos años tienes?                                           43 non-null     object\n",
      " 3   3.- ¿Estudias?                                                      43 non-null     object\n",
      " 4   4.- ¿Trabajas?                                                      43 non-null     object\n",
      " 5   5.- ¿Cuál es tu nivel de conocimiento en Python?                    43 non-null     object\n",
      " 6   6.- ¿Qué tema relacionado con Python te gustaría aprender?          43 non-null     object\n",
      " 7   7.- ¿Has participado en algún curso anteriormente en el IA Center?  43 non-null     object\n",
      " 8   8.- ¿Cuál es tu canción favorita?                                   43 non-null     object\n",
      "dtypes: object(9)\n",
      "memory usage: 3.2+ KB\n"
     ]
    }
   ],
   "source": [
    "df.info()"
   ]
  },
  {
   "attachments": {},
   "cell_type": "markdown",
   "metadata": {},
   "source": [
    "### CSV"
   ]
  },
  {
   "cell_type": "code",
   "execution_count": 65,
   "metadata": {},
   "outputs": [
    {
     "name": "stdout",
     "output_type": "stream",
     "text": [
      "                     Marca temporal                        1.- ¿De dónde eres? 2.- ¿Cuántos años tienes? 3.- ¿Estudias? 4.- ¿Trabajas? 5.- ¿Cuál es tu nivel de conocimiento en Python?                                           6.- ¿Qué tema relacionado con Python te gustaría aprender? 7.- ¿Has participado en algún curso anteriormente en el IA Center?                             8.- ¿Cuál es tu canción favorita?\n",
      "0    2023/06/27 7:42:12 p. m. GMT-6                                 Cd. Juárez             Entre 21 y 24             Sí             No                                           Básico                                                                               Manejar bases de datos                                                                 No                                                      The Wolf\n",
      "1    2023/06/27 7:42:28 p. m. GMT-6                       chihuahua, chihuahua             Entre 21 y 24             Sí             Sí                                           Básico                                                                                      machine lerning                                                                 Sí                                               eternity, anyma\n",
      "2    2023/06/27 7:42:44 p. m. GMT-6                        Chihuahua Chihuahua             Entre 18 y 20             Sí             Sí                                           Básico                                                        Automatización y creación de apps/páginas web                                                                 No                                Cornerstone- Arctic Monkeys :)\n",
      "3    2023/06/27 7:42:52 p. m. GMT-6                        Chihuahua Chihuahua             Entre 21 y 24             Sí             Sí                                           Básico                                                                                    Análisis de datos                                                                 Sí                                               Sea Gets Hotter\n",
      "4    2023/06/27 7:42:56 p. m. GMT-6                           Chihuahua, Chih.                 Más de 30             No             Sí                                           Básico                                                                                Conocer más librerias                                                                 Sí                                    Love Me More, de Sam Smith\n",
      "5    2023/06/27 7:42:57 p. m. GMT-6                                     Puebla             Entre 21 y 24             Sí             Sí                                           Básico                                                                                  APIS y data science                                                                 No                                      Fireflight - Unbreakable\n",
      "6    2023/06/27 7:42:57 p. m. GMT-6                            Cd. Juarez Chih                 Más de 30             No             Sí                                       Intermedio                                                                                    Analisis de Datos                                                                 Sí                                          Instrumental General\n",
      "7    2023/06/27 7:43:04 p. m. GMT-6                              Ciudad Juarez             Entre 21 y 24             Sí             Sí                                           Básico                                                                                     Ciencia de datos                                                                 Sí                                     La bruja de Marco Flores \n",
      "8    2023/06/27 7:43:10 p. m. GMT-6                             Aguascalientes             Entre 18 y 20             Sí             No                                           Básico  Me gustaria aprender un poco de todo, pero mas que nada me gustaria practicar mas los conocimientos                                                                 No                                           Canela-Nanpa Basico\n",
      "9    2023/06/27 7:43:12 p. m. GMT-6                           Cd Juarez, Chih.             Entre 21 y 24             Sí             No                                           Básico                                       No tengo un tema en especifico, solo deseo repasar y aprender                                                                  Sí          Depende del momento hy del día, ahora es Hielo - Zoé\n",
      "10   2023/06/27 7:43:12 p. m. GMT-6                                     Juárez             Entre 21 y 24             Sí             Sí                                           Básico                                                                                    Análisis de datos                                                                 No                                                    No tengo:(\n",
      "11   2023/06/27 7:43:16 p. m. GMT-6                                 El Paso TX             Entre 18 y 20             Sí             No                                           Básico                                                                                                  POO                                                                 No                                 The Words I Never Said / Mage\n",
      "12   2023/06/27 7:43:16 p. m. GMT-6                       Cuauhtemoc Chihuahua                 Más de 30             No             Sí                                       Intermedio                                                                              Web y análisis de datos                                                                 No                                              Dust in the wind\n",
      "13   2023/06/27 7:43:29 p. m. GMT-6                                Cd. Juárez              Entre 21 y 24             Sí             Sí                                           Básico                         Flujos de trabajo, análisis de datos, análisis estadístico y automatización                                                                  Sí                                       Manto estelar - Moenia \n",
      "14   2023/06/27 7:43:34 p. m. GMT-6                                    Hidalgo             Entre 25 y 29             Sí             Sí                                           Básico                                                                                        Deep learning                                                                 No                                                         Todas\n",
      "15   2023/06/27 7:43:50 p. m. GMT-6                          Cd. Juarez, Chih.             Entre 21 y 24             Sí             Sí                                           Básico                                                               Programación orientada a objetos (POO)                                                                 Sí                        Skillet-Comatose y Whisper in the Dark\n",
      "16   2023/06/27 7:44:01 p. m. GMT-6                       Cd. Juarez Chihuahua                 Más de 30             No             Sí                                           Básico                                        un poco de todo para irme familiarizandome a la prograamacion                                                                 Sí                             el hada y el mago de reta blancha\n",
      "17   2023/06/27 7:44:01 p. m. GMT-6             Ciudad Juarez Chihuahua Mexico             Entre 21 y 24             No             No                                           Básico                                                                                            API y IA                                                                  Sí   https://youtu.be/dQw4w9WgXcQ y https://youtu.be/yJDBmP9Mexk\n",
      "18   2023/06/27 7:44:12 p. m. GMT-6                              Ciudad Juarez                 Más de 30             Sí             No                                           Básico                                                       Web Scrapping y limpieza de conjuntos de datos                                                                 Sí                                              Hotel California\n",
      "19   2023/06/27 7:44:14 p. m. GMT-6                           Chihuahua, Chih.                 Más de 30             No             Sí                                           Básico                                                                                    análisis de datos                                                                 Sí   no tengo canción favorita, prácticamente no escucho música \n",
      "20   2023/06/27 7:44:17 p. m. GMT-6                              Ciudad Juarez             Entre 18 y 20             Sí             No                                           Básico                                                       Analisis de datos y su uso para desarrollo web                                                                 No                                     Burn My Dread - Persona 3\n",
      "21   2023/06/27 7:44:20 p. m. GMT-6               Cd Juárez Chihuahua, México.                 Más de 30             No             Sí                                           Básico                                                        Ciencia de Datos, y API`s y Todo lo de Python                                                                 Sí                                                          ....\n",
      "22   2023/06/27 7:44:25 p. m. GMT-6                              Ciudad Juárez                 Más de 30             No             Sí                                           Básico                                                       recolección, limpieza y visualización de datos                                                                 Sí                                                   Todo cuenta\n",
      "23   2023/06/27 7:44:30 p. m. GMT-6                                 Cd. Juárez             Entre 25 y 29             Sí             No                                           Básico                                                                                     Ciencia de datos                                                                 Sí                                             Chosen - Maneskin\n",
      "24   2023/06/27 7:44:31 p. m. GMT-6                                     Juarez             Entre 25 y 29             Sí             Sí                                           Básico         Como hacer una interfaz para poder hacer un programa funcional para terceros. Python con SQL                                                                 Sí                                             God's Plan- Drake\n",
      "25   2023/06/27 7:45:04 p. m. GMT-6                     Cd. Juárez, Chihuahua              Entre 18 y 20             Sí             No                        Nunca he utilizado Python                                                                      Programación para uso academico                                                                 No                    A man without love - Engelbert Humperdinck\n",
      "26   2023/06/27 7:45:37 p. m. GMT-6                            Aguascalientes              Entre 21 y 24             Sí             No                                       Intermedio                                                                  un poco de inteligencia artificial                                                                  No                                              Love of my life \n",
      "27   2023/06/27 7:45:45 p. m. GMT-6                                 Cd. Juarez             Entre 15 y 17             Sí             No                                           Básico                                                                                               Bucles                                                                 Sí                               Jorge Drexler - El Plan Maestro\n",
      "28   2023/06/27 7:46:10 p. m. GMT-6  San Francisco de los Romo, Aguascalientes             Entre 18 y 20             Sí             No                                           Básico                                           Librerias con aplicaciones en el mundo de las matemáticas.                                                                 No                                     Inolvidable - Luis Miguel\n",
      "29   2023/06/27 7:46:14 p. m. GMT-6                                  Chihuahua             Entre 18 y 20             Sí             Sí                                           Básico                                                                                           desarrollo                                                                 No                                                     Last Call\n",
      "30   2023/06/27 7:46:28 p. m. GMT-6                              Ciudad Juárez             Entre 21 y 24             Sí             No                                           Básico                                                                               Procesamiento de datos                                                                 Sí                              Lacrimosa- Matt Kent, Amber Dawn\n",
      "31   2023/06/27 7:46:32 p. m. GMT-6                                 Zacatecas              Entre 25 y 29             Sí             Sí                                           Básico                                                                                                 Apis                                                                 Sí                                          All the small things\n",
      "32   2023/06/27 7:46:37 p. m. GMT-6                              Ciudad Juarez             Entre 21 y 24             Sí             Sí                                           Básico                                                                                      MachineLearning                                                                 No                           Like I Love You - Justin Timberlake\n",
      "33   2023/06/27 7:49:23 p. m. GMT-6                              Ciudad Juárez             Entre 18 y 20             Sí             No                                           Básico                                                                    Ciencia de Datos y automatización                                                                 Sí                  Cold Heart - PNAU REMIX Elton Jhon, Dua Lipa\n",
      "34   2023/06/27 7:51:23 p. m. GMT-6                              Ciudad Juarez             Entre 25 y 29             Sí             Sí                                       Intermedio                                                                        ciencia de datos, webscraping                                                                 Sí                                 Gorillaz - On Melancholy Hill\n",
      "35   2023/06/27 7:55:00 p. m. GMT-6                Veracruz, estudio en Puebla             Entre 25 y 29             Sí             No                                           Básico                                                                Lo relacionado con análisis de datos.                                                                 Sí        En este momento Los Años Maravillosos de Little Jesus \n",
      "36   2023/06/27 8:05:42 p. m. GMT-6                                       CDMX             Entre 25 y 29             No             Sí                                           Básico                                                                                         web scraping                                                                 No                                                   Young Turks\n",
      "37   2023/06/27 8:22:29 p. m. GMT-6                           Estado de Mexico             Entre 21 y 24             Sí             Sí                                           Básico                                                                  librerias, bloques paquetes etc....                                                                 No                                       the weeknd- Out of time\n",
      "38  2023/06/27 10:02:11 p. m. GMT-6                        Ciudad Juarez, Chih             Entre 21 y 24             No             Sí                                           Básico                                                                                    Analisis de datos                                                                 Sí                                  https://youtu.be/BGVUiMskx_U\n",
      "39  2023/06/27 10:31:28 p. m. GMT-6                                  cd juarez             Entre 21 y 24             Sí             Sí                                           Básico                                                                                             punteros                                                                 Sí                                        porter guiame quetzal \n",
      "40  2023/06/28 10:12:04 p. m. GMT-6                                  Chihuahua             Entre 21 y 24             No             Sí                                           Básico                                                                     Machine Learning y Deep Learning                                                                 Sí                                                       Runaway\n",
      "41   2023/06/29 2:00:51 a. m. GMT-6          Vivo en Ciudad Juárez. Soy cubana                 Más de 30             Sí             No                                       Intermedio       Cómo escribir un código de forma profesional, utilizando las herramientas necesarias y óptimas                                                                 No  Hay varias, pero últimamente escucho mucho \"Cuba Isla Bella\"\n",
      "42   2023/07/03 1:55:24 p. m. GMT-6                              Ciudad Juarez                 Más de 30             No             Sí                                       Intermedio                                                                                       Automatizacion                                                                 No                                         David Bowie - Heroes \n"
     ]
    }
   ],
   "source": [
    "df = pd.read_csv(\"../Python 3 Intermedio/dataset/Perfil de estudiante.csv\")\n",
    "print(df.to_string()) # Imprime en string"
   ]
  },
  {
   "attachments": {},
   "cell_type": "markdown",
   "metadata": {},
   "source": [
    "### JSON"
   ]
  },
  {
   "cell_type": "code",
   "execution_count": 66,
   "metadata": {},
   "outputs": [
    {
     "name": "stdout",
     "output_type": "stream",
     "text": [
      "                                                 personas\n",
      "0      {'nombre': 'Juan', 'edad': 25, 'ciudad': 'Madrid'}\n",
      "1  {'nombre': 'María', 'edad': 30, 'ciudad': 'Barcelona'}\n",
      "2   {'nombre': 'Pedro', 'edad': 35, 'ciudad': 'Valencia'}\n"
     ]
    }
   ],
   "source": [
    "df = pd.read_json(\"../Python 3 Intermedio/dataset/dataset.json\")\n",
    "print(df.to_string()) "
   ]
  },
  {
   "attachments": {},
   "cell_type": "markdown",
   "metadata": {},
   "source": [
    "### Limpieza de datos"
   ]
  },
  {
   "cell_type": "code",
   "execution_count": 105,
   "metadata": {},
   "outputs": [],
   "source": [
    "data = {\n",
    "\n",
    "    'Nombre': ['Juan', 'María', 'Pedro', 'Ana', 'Luis'],\n",
    "\n",
    "    'Edad': [25, 32, None, 42, 28],\n",
    "\n",
    "    'Fecha': ['31/01/2020', '31/01/2020', None, '31/01/2020', '01/31/2020'],\n",
    "\n",
    "    'Género': ['M', 'F', None, 'F', 'M'],\n",
    "\n",
    "    'Ciudad': ['Madrid', None, 'Madrid', 'Valencia', 'Barcelona'],\n",
    "\n",
    "    'Altura': [175, 163, 180, 158, 170],\n",
    "\n",
    "    'Peso': [70, None, 80, 60, 75],\n",
    "\n",
    "    'Ingresos': [50000, 60000, 40000, None, 55000]\n",
    "\n",
    "}"
   ]
  },
  {
   "cell_type": "code",
   "execution_count": 106,
   "metadata": {},
   "outputs": [
    {
     "name": "stdout",
     "output_type": "stream",
     "text": [
      "  Nombre  Edad       Fecha Género     Ciudad  Altura  Peso  Ingresos\n",
      "0   Juan  25.0  31/01/2020      M     Madrid     175  70.0   50000.0\n",
      "1  María  32.0  31/01/2020      F       None     163   NaN   60000.0\n",
      "2  Pedro   NaN        None   None     Madrid     180  80.0   40000.0\n",
      "3    Ana  42.0  31/01/2020      F   Valencia     158  60.0       NaN\n",
      "4   Luis  28.0  01/31/2020      M  Barcelona     170  75.0   55000.0\n"
     ]
    }
   ],
   "source": [
    "df = pd.DataFrame(data)\n",
    "print(df)"
   ]
  },
  {
   "cell_type": "code",
   "execution_count": 72,
   "metadata": {},
   "outputs": [
    {
     "name": "stdout",
     "output_type": "stream",
     "text": [
      "  Nombre  Edad       Fecha Género     Ciudad  Altura  Peso  Ingresos\n",
      "0   Juan  25.0  31/01/2020      M     Madrid     175  70.0   50000.0\n",
      "4   Luis  28.0  01/31/2020      M  Barcelona     170  75.0   55000.0\n"
     ]
    }
   ],
   "source": [
    "df_sin_vacios = df.dropna() # Elimina campos nulos, None, Nall\n",
    "print(df_sin_vacios.to_string())"
   ]
  },
  {
   "cell_type": "code",
   "execution_count": 107,
   "metadata": {},
   "outputs": [
    {
     "data": {
      "text/html": [
       "<div>\n",
       "<style scoped>\n",
       "    .dataframe tbody tr th:only-of-type {\n",
       "        vertical-align: middle;\n",
       "    }\n",
       "\n",
       "    .dataframe tbody tr th {\n",
       "        vertical-align: top;\n",
       "    }\n",
       "\n",
       "    .dataframe thead th {\n",
       "        text-align: right;\n",
       "    }\n",
       "</style>\n",
       "<table border=\"1\" class=\"dataframe\">\n",
       "  <thead>\n",
       "    <tr style=\"text-align: right;\">\n",
       "      <th></th>\n",
       "      <th>Nombre</th>\n",
       "      <th>Edad</th>\n",
       "      <th>Fecha</th>\n",
       "      <th>Género</th>\n",
       "      <th>Ciudad</th>\n",
       "      <th>Altura</th>\n",
       "      <th>Peso</th>\n",
       "      <th>Ingresos</th>\n",
       "    </tr>\n",
       "  </thead>\n",
       "  <tbody>\n",
       "    <tr>\n",
       "      <th>0</th>\n",
       "      <td>Juan</td>\n",
       "      <td>25.0</td>\n",
       "      <td>31/01/2020</td>\n",
       "      <td>M</td>\n",
       "      <td>Madrid</td>\n",
       "      <td>175</td>\n",
       "      <td>70.0</td>\n",
       "      <td>50000.0</td>\n",
       "    </tr>\n",
       "    <tr>\n",
       "      <th>1</th>\n",
       "      <td>María</td>\n",
       "      <td>32.0</td>\n",
       "      <td>31/01/2020</td>\n",
       "      <td>F</td>\n",
       "      <td>None</td>\n",
       "      <td>163</td>\n",
       "      <td>NaN</td>\n",
       "      <td>60000.0</td>\n",
       "    </tr>\n",
       "    <tr>\n",
       "      <th>2</th>\n",
       "      <td>Pedro</td>\n",
       "      <td>NaN</td>\n",
       "      <td>None</td>\n",
       "      <td>None</td>\n",
       "      <td>Madrid</td>\n",
       "      <td>180</td>\n",
       "      <td>80.0</td>\n",
       "      <td>40000.0</td>\n",
       "    </tr>\n",
       "    <tr>\n",
       "      <th>3</th>\n",
       "      <td>Ana</td>\n",
       "      <td>42.0</td>\n",
       "      <td>31/01/2020</td>\n",
       "      <td>F</td>\n",
       "      <td>Valencia</td>\n",
       "      <td>158</td>\n",
       "      <td>60.0</td>\n",
       "      <td>NaN</td>\n",
       "    </tr>\n",
       "    <tr>\n",
       "      <th>4</th>\n",
       "      <td>Luis</td>\n",
       "      <td>28.0</td>\n",
       "      <td>01/31/2020</td>\n",
       "      <td>M</td>\n",
       "      <td>Barcelona</td>\n",
       "      <td>170</td>\n",
       "      <td>75.0</td>\n",
       "      <td>55000.0</td>\n",
       "    </tr>\n",
       "  </tbody>\n",
       "</table>\n",
       "</div>"
      ],
      "text/plain": [
       "  Nombre  Edad       Fecha Género     Ciudad  Altura  Peso  Ingresos\n",
       "0   Juan  25.0  31/01/2020      M     Madrid     175  70.0   50000.0\n",
       "1  María  32.0  31/01/2020      F       None     163   NaN   60000.0\n",
       "2  Pedro   NaN        None   None     Madrid     180  80.0   40000.0\n",
       "3    Ana  42.0  31/01/2020      F   Valencia     158  60.0       NaN\n",
       "4   Luis  28.0  01/31/2020      M  Barcelona     170  75.0   55000.0"
      ]
     },
     "execution_count": 107,
     "metadata": {},
     "output_type": "execute_result"
    }
   ],
   "source": [
    "df"
   ]
  },
  {
   "cell_type": "code",
   "execution_count": 74,
   "metadata": {},
   "outputs": [
    {
     "name": "stdout",
     "output_type": "stream",
     "text": [
      "  Nombre  Edad       Fecha Género     Ciudad  Altura  Peso  Ingresos\n",
      "0   Juan  25.0  31/01/2020      M     Madrid     175  70.0   50000.0\n",
      "4   Luis  28.0  01/31/2020      M  Barcelona     170  75.0   55000.0\n"
     ]
    }
   ],
   "source": [
    "df.dropna(inplace=True) #Quita registros con valores nulos\n",
    "print(df.to_string())"
   ]
  },
  {
   "cell_type": "code",
   "execution_count": 108,
   "metadata": {},
   "outputs": [
    {
     "data": {
      "text/html": [
       "<div>\n",
       "<style scoped>\n",
       "    .dataframe tbody tr th:only-of-type {\n",
       "        vertical-align: middle;\n",
       "    }\n",
       "\n",
       "    .dataframe tbody tr th {\n",
       "        vertical-align: top;\n",
       "    }\n",
       "\n",
       "    .dataframe thead th {\n",
       "        text-align: right;\n",
       "    }\n",
       "</style>\n",
       "<table border=\"1\" class=\"dataframe\">\n",
       "  <thead>\n",
       "    <tr style=\"text-align: right;\">\n",
       "      <th></th>\n",
       "      <th>Nombre</th>\n",
       "      <th>Edad</th>\n",
       "      <th>Fecha</th>\n",
       "      <th>Género</th>\n",
       "      <th>Ciudad</th>\n",
       "      <th>Altura</th>\n",
       "      <th>Peso</th>\n",
       "      <th>Ingresos</th>\n",
       "    </tr>\n",
       "  </thead>\n",
       "  <tbody>\n",
       "    <tr>\n",
       "      <th>0</th>\n",
       "      <td>Juan</td>\n",
       "      <td>25.0</td>\n",
       "      <td>31/01/2020</td>\n",
       "      <td>M</td>\n",
       "      <td>Madrid</td>\n",
       "      <td>175</td>\n",
       "      <td>70.0</td>\n",
       "      <td>50000.0</td>\n",
       "    </tr>\n",
       "    <tr>\n",
       "      <th>1</th>\n",
       "      <td>María</td>\n",
       "      <td>32.0</td>\n",
       "      <td>31/01/2020</td>\n",
       "      <td>F</td>\n",
       "      <td>None</td>\n",
       "      <td>163</td>\n",
       "      <td>NaN</td>\n",
       "      <td>60000.0</td>\n",
       "    </tr>\n",
       "    <tr>\n",
       "      <th>2</th>\n",
       "      <td>Pedro</td>\n",
       "      <td>NaN</td>\n",
       "      <td>None</td>\n",
       "      <td>None</td>\n",
       "      <td>Madrid</td>\n",
       "      <td>180</td>\n",
       "      <td>80.0</td>\n",
       "      <td>40000.0</td>\n",
       "    </tr>\n",
       "    <tr>\n",
       "      <th>3</th>\n",
       "      <td>Ana</td>\n",
       "      <td>42.0</td>\n",
       "      <td>31/01/2020</td>\n",
       "      <td>F</td>\n",
       "      <td>Valencia</td>\n",
       "      <td>158</td>\n",
       "      <td>60.0</td>\n",
       "      <td>NaN</td>\n",
       "    </tr>\n",
       "    <tr>\n",
       "      <th>4</th>\n",
       "      <td>Luis</td>\n",
       "      <td>28.0</td>\n",
       "      <td>01/31/2020</td>\n",
       "      <td>M</td>\n",
       "      <td>Barcelona</td>\n",
       "      <td>170</td>\n",
       "      <td>75.0</td>\n",
       "      <td>55000.0</td>\n",
       "    </tr>\n",
       "  </tbody>\n",
       "</table>\n",
       "</div>"
      ],
      "text/plain": [
       "  Nombre  Edad       Fecha Género     Ciudad  Altura  Peso  Ingresos\n",
       "0   Juan  25.0  31/01/2020      M     Madrid     175  70.0   50000.0\n",
       "1  María  32.0  31/01/2020      F       None     163   NaN   60000.0\n",
       "2  Pedro   NaN        None   None     Madrid     180  80.0   40000.0\n",
       "3    Ana  42.0  31/01/2020      F   Valencia     158  60.0       NaN\n",
       "4   Luis  28.0  01/31/2020      M  Barcelona     170  75.0   55000.0"
      ]
     },
     "execution_count": 108,
     "metadata": {},
     "output_type": "execute_result"
    }
   ],
   "source": [
    "df"
   ]
  },
  {
   "cell_type": "code",
   "execution_count": 109,
   "metadata": {},
   "outputs": [
    {
     "name": "stdout",
     "output_type": "stream",
     "text": [
      "  Nombre  Edad       Fecha Género     Ciudad  Altura  Peso  Ingresos\n",
      "0   Juan  25.0  31/01/2020      M     Madrid     175  70.0   50000.0\n",
      "1  María  32.0  31/01/2020      F       None     163   NaN   60000.0\n",
      "2  Pedro   NaN        None   None     Madrid     180  80.0   40000.0\n",
      "3    Ana  42.0  31/01/2020      F   Valencia     158  60.0       NaN\n",
      "4   Luis  28.0  01/31/2020      M  Barcelona     170  75.0   55000.0\n"
     ]
    }
   ],
   "source": [
    "print(df.to_string())"
   ]
  },
  {
   "cell_type": "code",
   "execution_count": 101,
   "metadata": {},
   "outputs": [
    {
     "name": "stdout",
     "output_type": "stream",
     "text": [
      "  Nombre          Edad         Fecha        Género        Ciudad  Altura          Peso      Ingresos\n",
      "0   Juan          25.0    31/01/2020             M        Madrid     175          70.0       50000.0\n",
      "1  María          32.0    31/01/2020             F  Sin registro     163  Sin registro       60000.0\n",
      "2  Pedro  Sin registro  Sin registro  Sin registro        Madrid     180          80.0       40000.0\n",
      "3    Ana          42.0    31/01/2020             F      Valencia     158          60.0  Sin registro\n",
      "4   Luis          28.0    01/31/2020             M     Barcelona     170          75.0       55000.0\n"
     ]
    }
   ],
   "source": [
    "df_relleno = df.fillna(\"Sin registro\")\n",
    "print(df_relleno.to_string())"
   ]
  },
  {
   "cell_type": "code",
   "execution_count": 110,
   "metadata": {},
   "outputs": [
    {
     "name": "stdout",
     "output_type": "stream",
     "text": [
      "0    50000.0\n",
      "1    60000.0\n",
      "2    40000.0\n",
      "3        0.0\n",
      "4    55000.0\n",
      "Name: Ingresos, dtype: float64\n"
     ]
    }
   ],
   "source": [
    "df_cero =df[\"Ingresos\"].fillna(0)\n",
    "print(df_cero)"
   ]
  },
  {
   "cell_type": "code",
   "execution_count": 116,
   "metadata": {},
   "outputs": [
    {
     "name": "stdout",
     "output_type": "stream",
     "text": [
      "0    50000.0\n",
      "1    60000.0\n",
      "2    40000.0\n",
      "3        0.0\n",
      "4    55000.0\n",
      "Name: Ingresos, dtype: float64\n"
     ]
    }
   ],
   "source": [
    "df_limpio =df[\"Ingresos\"].fillna(0)\n",
    "print(df_limpio)"
   ]
  },
  {
   "cell_type": "code",
   "execution_count": 115,
   "metadata": {},
   "outputs": [
    {
     "data": {
      "text/html": [
       "<div>\n",
       "<style scoped>\n",
       "    .dataframe tbody tr th:only-of-type {\n",
       "        vertical-align: middle;\n",
       "    }\n",
       "\n",
       "    .dataframe tbody tr th {\n",
       "        vertical-align: top;\n",
       "    }\n",
       "\n",
       "    .dataframe thead th {\n",
       "        text-align: right;\n",
       "    }\n",
       "</style>\n",
       "<table border=\"1\" class=\"dataframe\">\n",
       "  <thead>\n",
       "    <tr style=\"text-align: right;\">\n",
       "      <th></th>\n",
       "      <th>Nombre</th>\n",
       "      <th>Edad</th>\n",
       "      <th>Fecha</th>\n",
       "      <th>Género</th>\n",
       "      <th>Ciudad</th>\n",
       "      <th>Altura</th>\n",
       "      <th>Peso</th>\n",
       "      <th>Ingresos</th>\n",
       "    </tr>\n",
       "  </thead>\n",
       "  <tbody>\n",
       "    <tr>\n",
       "      <th>0</th>\n",
       "      <td>Juan</td>\n",
       "      <td>25.0</td>\n",
       "      <td>31/01/2020</td>\n",
       "      <td>M</td>\n",
       "      <td>Madrid</td>\n",
       "      <td>175</td>\n",
       "      <td>70.0</td>\n",
       "      <td>50000.0</td>\n",
       "    </tr>\n",
       "    <tr>\n",
       "      <th>1</th>\n",
       "      <td>María</td>\n",
       "      <td>32.0</td>\n",
       "      <td>31/01/2020</td>\n",
       "      <td>F</td>\n",
       "      <td>None</td>\n",
       "      <td>163</td>\n",
       "      <td>NaN</td>\n",
       "      <td>60000.0</td>\n",
       "    </tr>\n",
       "    <tr>\n",
       "      <th>2</th>\n",
       "      <td>Pedro</td>\n",
       "      <td>NaN</td>\n",
       "      <td>None</td>\n",
       "      <td>None</td>\n",
       "      <td>Madrid</td>\n",
       "      <td>180</td>\n",
       "      <td>80.0</td>\n",
       "      <td>40000.0</td>\n",
       "    </tr>\n",
       "    <tr>\n",
       "      <th>3</th>\n",
       "      <td>Ana</td>\n",
       "      <td>42.0</td>\n",
       "      <td>31/01/2020</td>\n",
       "      <td>F</td>\n",
       "      <td>Valencia</td>\n",
       "      <td>158</td>\n",
       "      <td>60.0</td>\n",
       "      <td>NaN</td>\n",
       "    </tr>\n",
       "    <tr>\n",
       "      <th>4</th>\n",
       "      <td>Luis</td>\n",
       "      <td>28.0</td>\n",
       "      <td>01/31/2020</td>\n",
       "      <td>M</td>\n",
       "      <td>Barcelona</td>\n",
       "      <td>170</td>\n",
       "      <td>75.0</td>\n",
       "      <td>55000.0</td>\n",
       "    </tr>\n",
       "  </tbody>\n",
       "</table>\n",
       "</div>"
      ],
      "text/plain": [
       "  Nombre  Edad       Fecha Género     Ciudad  Altura  Peso  Ingresos\n",
       "0   Juan  25.0  31/01/2020      M     Madrid     175  70.0   50000.0\n",
       "1  María  32.0  31/01/2020      F       None     163   NaN   60000.0\n",
       "2  Pedro   NaN        None   None     Madrid     180  80.0   40000.0\n",
       "3    Ana  42.0  31/01/2020      F   Valencia     158  60.0       NaN\n",
       "4   Luis  28.0  01/31/2020      M  Barcelona     170  75.0   55000.0"
      ]
     },
     "execution_count": 115,
     "metadata": {},
     "output_type": "execute_result"
    }
   ],
   "source": [
    "df"
   ]
  },
  {
   "cell_type": "code",
   "execution_count": 122,
   "metadata": {},
   "outputs": [
    {
     "name": "stdout",
     "output_type": "stream",
     "text": [
      "51250.0\n"
     ]
    }
   ],
   "source": [
    "media = df[\"Ingresos\"].mean()\n",
    "print(media)"
   ]
  },
  {
   "cell_type": "code",
   "execution_count": 123,
   "metadata": {},
   "outputs": [
    {
     "name": "stdout",
     "output_type": "stream",
     "text": [
      "0    50000.0\n",
      "1    60000.0\n",
      "2    40000.0\n",
      "3    51250.0\n",
      "4    55000.0\n",
      "Name: Ingresos, dtype: float64\n"
     ]
    }
   ],
   "source": [
    "df_media = df[\"Ingresos\"].fillna(media)\n",
    "print(df_media)"
   ]
  },
  {
   "cell_type": "code",
   "execution_count": 126,
   "metadata": {},
   "outputs": [
    {
     "name": "stdout",
     "output_type": "stream",
     "text": [
      "52500.0\n"
     ]
    }
   ],
   "source": [
    "mediana= df[\"Ingresos\"].median()\n",
    "print(mediana)"
   ]
  },
  {
   "cell_type": "code",
   "execution_count": 127,
   "metadata": {},
   "outputs": [
    {
     "name": "stdout",
     "output_type": "stream",
     "text": [
      "0    50000.0\n",
      "1    60000.0\n",
      "2    40000.0\n",
      "3    52500.0\n",
      "4    55000.0\n",
      "Name: Ingresos, dtype: float64\n"
     ]
    }
   ],
   "source": [
    "df_mediana = df[\"Ingresos\"].fillna(mediana)\n",
    "print(df_mediana)"
   ]
  },
  {
   "cell_type": "code",
   "execution_count": 142,
   "metadata": {},
   "outputs": [
    {
     "name": "stdout",
     "output_type": "stream",
     "text": [
      "0    40000.0\n",
      "1    50000.0\n",
      "2    55000.0\n",
      "3    60000.0\n",
      "Name: Ingresos, dtype: float64\n"
     ]
    }
   ],
   "source": [
    "moda = df[\"Ingresos\"].mode()\n",
    "print(moda)"
   ]
  },
  {
   "cell_type": "code",
   "execution_count": 128,
   "metadata": {},
   "outputs": [
    {
     "data": {
      "text/html": [
       "<div>\n",
       "<style scoped>\n",
       "    .dataframe tbody tr th:only-of-type {\n",
       "        vertical-align: middle;\n",
       "    }\n",
       "\n",
       "    .dataframe tbody tr th {\n",
       "        vertical-align: top;\n",
       "    }\n",
       "\n",
       "    .dataframe thead th {\n",
       "        text-align: right;\n",
       "    }\n",
       "</style>\n",
       "<table border=\"1\" class=\"dataframe\">\n",
       "  <thead>\n",
       "    <tr style=\"text-align: right;\">\n",
       "      <th></th>\n",
       "      <th>Nombre</th>\n",
       "      <th>Edad</th>\n",
       "      <th>Fecha</th>\n",
       "      <th>Género</th>\n",
       "      <th>Ciudad</th>\n",
       "      <th>Altura</th>\n",
       "      <th>Peso</th>\n",
       "      <th>Ingresos</th>\n",
       "    </tr>\n",
       "  </thead>\n",
       "  <tbody>\n",
       "    <tr>\n",
       "      <th>0</th>\n",
       "      <td>Juan</td>\n",
       "      <td>25.0</td>\n",
       "      <td>31/01/2020</td>\n",
       "      <td>M</td>\n",
       "      <td>Madrid</td>\n",
       "      <td>175</td>\n",
       "      <td>70.0</td>\n",
       "      <td>50000.0</td>\n",
       "    </tr>\n",
       "    <tr>\n",
       "      <th>1</th>\n",
       "      <td>María</td>\n",
       "      <td>32.0</td>\n",
       "      <td>31/01/2020</td>\n",
       "      <td>F</td>\n",
       "      <td>None</td>\n",
       "      <td>163</td>\n",
       "      <td>NaN</td>\n",
       "      <td>60000.0</td>\n",
       "    </tr>\n",
       "    <tr>\n",
       "      <th>2</th>\n",
       "      <td>Pedro</td>\n",
       "      <td>NaN</td>\n",
       "      <td>None</td>\n",
       "      <td>None</td>\n",
       "      <td>Madrid</td>\n",
       "      <td>180</td>\n",
       "      <td>80.0</td>\n",
       "      <td>40000.0</td>\n",
       "    </tr>\n",
       "    <tr>\n",
       "      <th>3</th>\n",
       "      <td>Ana</td>\n",
       "      <td>42.0</td>\n",
       "      <td>31/01/2020</td>\n",
       "      <td>F</td>\n",
       "      <td>Valencia</td>\n",
       "      <td>158</td>\n",
       "      <td>60.0</td>\n",
       "      <td>NaN</td>\n",
       "    </tr>\n",
       "    <tr>\n",
       "      <th>4</th>\n",
       "      <td>Luis</td>\n",
       "      <td>28.0</td>\n",
       "      <td>01/31/2020</td>\n",
       "      <td>M</td>\n",
       "      <td>Barcelona</td>\n",
       "      <td>170</td>\n",
       "      <td>75.0</td>\n",
       "      <td>55000.0</td>\n",
       "    </tr>\n",
       "  </tbody>\n",
       "</table>\n",
       "</div>"
      ],
      "text/plain": [
       "  Nombre  Edad       Fecha Género     Ciudad  Altura  Peso  Ingresos\n",
       "0   Juan  25.0  31/01/2020      M     Madrid     175  70.0   50000.0\n",
       "1  María  32.0  31/01/2020      F       None     163   NaN   60000.0\n",
       "2  Pedro   NaN        None   None     Madrid     180  80.0   40000.0\n",
       "3    Ana  42.0  31/01/2020      F   Valencia     158  60.0       NaN\n",
       "4   Luis  28.0  01/31/2020      M  Barcelona     170  75.0   55000.0"
      ]
     },
     "execution_count": 128,
     "metadata": {},
     "output_type": "execute_result"
    }
   ],
   "source": [
    "df"
   ]
  },
  {
   "cell_type": "code",
   "execution_count": 129,
   "metadata": {},
   "outputs": [
    {
     "name": "stdout",
     "output_type": "stream",
     "text": [
      "  Nombre  Edad       Fecha Género     Ciudad  Altura  Peso  Ingresos\n",
      "0   Juan  25.0  31/01/2020      M     Madrid     175  70.0   50000.0\n",
      "1  María  32.0  31/01/2020      F       None     163  70.0   60000.0\n",
      "2  Pedro   NaN        None   None     Madrid     180  80.0   40000.0\n",
      "3    Ana  42.0  31/01/2020      F   Valencia     158  60.0       NaN\n",
      "4   Luis  28.0  01/31/2020      M  Barcelona     170  75.0   55000.0\n"
     ]
    }
   ],
   "source": [
    "df.loc[1,\"Peso\"] = 70\n",
    "print(df)"
   ]
  },
  {
   "cell_type": "code",
   "execution_count": 135,
   "metadata": {},
   "outputs": [],
   "source": [
    "data = {\n",
    "\n",
    "    'Nombre': ['Juan', 'María', 'Pedro', 'Ana', 'Luis','Luis'],\n",
    "\n",
    "    'Edad': [25, 32, None, 42, 28,28],\n",
    "\n",
    "    'Fecha': ['31/01/2020', '31/01/2020', None, '31/01/2020', '01/31/2020','01/31/2020'],\n",
    "\n",
    "    'Género': ['M', 'F', None, 'F', 'M','M'],\n",
    "\n",
    "    'Ciudad': ['Madrid', None, 'Madrid', 'Valencia', 'Barcelona','Barcelona'],\n",
    "\n",
    "    'Altura': [175, 163, 180, 158, 170,170],\n",
    "\n",
    "    'Peso': [70, None, 80, 60, 75,75],\n",
    "\n",
    "    'Ingresos': [50000, 60000, 40000, None, 55000,55000]\n",
    "\n",
    "}"
   ]
  },
  {
   "cell_type": "code",
   "execution_count": 137,
   "metadata": {},
   "outputs": [
    {
     "data": {
      "text/html": [
       "<div>\n",
       "<style scoped>\n",
       "    .dataframe tbody tr th:only-of-type {\n",
       "        vertical-align: middle;\n",
       "    }\n",
       "\n",
       "    .dataframe tbody tr th {\n",
       "        vertical-align: top;\n",
       "    }\n",
       "\n",
       "    .dataframe thead th {\n",
       "        text-align: right;\n",
       "    }\n",
       "</style>\n",
       "<table border=\"1\" class=\"dataframe\">\n",
       "  <thead>\n",
       "    <tr style=\"text-align: right;\">\n",
       "      <th></th>\n",
       "      <th>Nombre</th>\n",
       "      <th>Edad</th>\n",
       "      <th>Fecha</th>\n",
       "      <th>Género</th>\n",
       "      <th>Ciudad</th>\n",
       "      <th>Altura</th>\n",
       "      <th>Peso</th>\n",
       "      <th>Ingresos</th>\n",
       "    </tr>\n",
       "  </thead>\n",
       "  <tbody>\n",
       "    <tr>\n",
       "      <th>0</th>\n",
       "      <td>Juan</td>\n",
       "      <td>25.0</td>\n",
       "      <td>31/01/2020</td>\n",
       "      <td>M</td>\n",
       "      <td>Madrid</td>\n",
       "      <td>175</td>\n",
       "      <td>70.0</td>\n",
       "      <td>50000.0</td>\n",
       "    </tr>\n",
       "    <tr>\n",
       "      <th>1</th>\n",
       "      <td>María</td>\n",
       "      <td>32.0</td>\n",
       "      <td>31/01/2020</td>\n",
       "      <td>F</td>\n",
       "      <td>None</td>\n",
       "      <td>163</td>\n",
       "      <td>NaN</td>\n",
       "      <td>60000.0</td>\n",
       "    </tr>\n",
       "    <tr>\n",
       "      <th>2</th>\n",
       "      <td>Pedro</td>\n",
       "      <td>NaN</td>\n",
       "      <td>None</td>\n",
       "      <td>None</td>\n",
       "      <td>Madrid</td>\n",
       "      <td>180</td>\n",
       "      <td>80.0</td>\n",
       "      <td>40000.0</td>\n",
       "    </tr>\n",
       "    <tr>\n",
       "      <th>3</th>\n",
       "      <td>Ana</td>\n",
       "      <td>42.0</td>\n",
       "      <td>31/01/2020</td>\n",
       "      <td>F</td>\n",
       "      <td>Valencia</td>\n",
       "      <td>158</td>\n",
       "      <td>60.0</td>\n",
       "      <td>NaN</td>\n",
       "    </tr>\n",
       "    <tr>\n",
       "      <th>4</th>\n",
       "      <td>Luis</td>\n",
       "      <td>28.0</td>\n",
       "      <td>01/31/2020</td>\n",
       "      <td>M</td>\n",
       "      <td>Barcelona</td>\n",
       "      <td>170</td>\n",
       "      <td>75.0</td>\n",
       "      <td>55000.0</td>\n",
       "    </tr>\n",
       "    <tr>\n",
       "      <th>5</th>\n",
       "      <td>Luis</td>\n",
       "      <td>28.0</td>\n",
       "      <td>01/31/2020</td>\n",
       "      <td>M</td>\n",
       "      <td>Barcelona</td>\n",
       "      <td>170</td>\n",
       "      <td>75.0</td>\n",
       "      <td>55000.0</td>\n",
       "    </tr>\n",
       "  </tbody>\n",
       "</table>\n",
       "</div>"
      ],
      "text/plain": [
       "  Nombre  Edad       Fecha Género     Ciudad  Altura  Peso  Ingresos\n",
       "0   Juan  25.0  31/01/2020      M     Madrid     175  70.0   50000.0\n",
       "1  María  32.0  31/01/2020      F       None     163   NaN   60000.0\n",
       "2  Pedro   NaN        None   None     Madrid     180  80.0   40000.0\n",
       "3    Ana  42.0  31/01/2020      F   Valencia     158  60.0       NaN\n",
       "4   Luis  28.0  01/31/2020      M  Barcelona     170  75.0   55000.0\n",
       "5   Luis  28.0  01/31/2020      M  Barcelona     170  75.0   55000.0"
      ]
     },
     "execution_count": 137,
     "metadata": {},
     "output_type": "execute_result"
    }
   ],
   "source": [
    "df = pd.DataFrame(data)\n",
    "df"
   ]
  },
  {
   "cell_type": "code",
   "execution_count": 138,
   "metadata": {},
   "outputs": [
    {
     "data": {
      "text/plain": [
       "0    False\n",
       "1    False\n",
       "2    False\n",
       "3    False\n",
       "4    False\n",
       "5     True\n",
       "dtype: bool"
      ]
     },
     "execution_count": 138,
     "metadata": {},
     "output_type": "execute_result"
    }
   ],
   "source": [
    "df.duplicated() # Hay duplicados?"
   ]
  },
  {
   "cell_type": "code",
   "execution_count": 141,
   "metadata": {},
   "outputs": [
    {
     "data": {
      "text/html": [
       "<div>\n",
       "<style scoped>\n",
       "    .dataframe tbody tr th:only-of-type {\n",
       "        vertical-align: middle;\n",
       "    }\n",
       "\n",
       "    .dataframe tbody tr th {\n",
       "        vertical-align: top;\n",
       "    }\n",
       "\n",
       "    .dataframe thead th {\n",
       "        text-align: right;\n",
       "    }\n",
       "</style>\n",
       "<table border=\"1\" class=\"dataframe\">\n",
       "  <thead>\n",
       "    <tr style=\"text-align: right;\">\n",
       "      <th></th>\n",
       "      <th>Nombre</th>\n",
       "      <th>Edad</th>\n",
       "      <th>Fecha</th>\n",
       "      <th>Género</th>\n",
       "      <th>Ciudad</th>\n",
       "      <th>Altura</th>\n",
       "      <th>Peso</th>\n",
       "      <th>Ingresos</th>\n",
       "    </tr>\n",
       "  </thead>\n",
       "  <tbody>\n",
       "    <tr>\n",
       "      <th>0</th>\n",
       "      <td>Juan</td>\n",
       "      <td>25.0</td>\n",
       "      <td>31/01/2020</td>\n",
       "      <td>M</td>\n",
       "      <td>Madrid</td>\n",
       "      <td>175</td>\n",
       "      <td>70.0</td>\n",
       "      <td>50000.0</td>\n",
       "    </tr>\n",
       "    <tr>\n",
       "      <th>1</th>\n",
       "      <td>María</td>\n",
       "      <td>32.0</td>\n",
       "      <td>31/01/2020</td>\n",
       "      <td>F</td>\n",
       "      <td>None</td>\n",
       "      <td>163</td>\n",
       "      <td>NaN</td>\n",
       "      <td>60000.0</td>\n",
       "    </tr>\n",
       "    <tr>\n",
       "      <th>2</th>\n",
       "      <td>Pedro</td>\n",
       "      <td>NaN</td>\n",
       "      <td>None</td>\n",
       "      <td>None</td>\n",
       "      <td>Madrid</td>\n",
       "      <td>180</td>\n",
       "      <td>80.0</td>\n",
       "      <td>40000.0</td>\n",
       "    </tr>\n",
       "    <tr>\n",
       "      <th>3</th>\n",
       "      <td>Ana</td>\n",
       "      <td>42.0</td>\n",
       "      <td>31/01/2020</td>\n",
       "      <td>F</td>\n",
       "      <td>Valencia</td>\n",
       "      <td>158</td>\n",
       "      <td>60.0</td>\n",
       "      <td>NaN</td>\n",
       "    </tr>\n",
       "    <tr>\n",
       "      <th>4</th>\n",
       "      <td>Luis</td>\n",
       "      <td>28.0</td>\n",
       "      <td>01/31/2020</td>\n",
       "      <td>M</td>\n",
       "      <td>Barcelona</td>\n",
       "      <td>170</td>\n",
       "      <td>75.0</td>\n",
       "      <td>55000.0</td>\n",
       "    </tr>\n",
       "  </tbody>\n",
       "</table>\n",
       "</div>"
      ],
      "text/plain": [
       "  Nombre  Edad       Fecha Género     Ciudad  Altura  Peso  Ingresos\n",
       "0   Juan  25.0  31/01/2020      M     Madrid     175  70.0   50000.0\n",
       "1  María  32.0  31/01/2020      F       None     163   NaN   60000.0\n",
       "2  Pedro   NaN        None   None     Madrid     180  80.0   40000.0\n",
       "3    Ana  42.0  31/01/2020      F   Valencia     158  60.0       NaN\n",
       "4   Luis  28.0  01/31/2020      M  Barcelona     170  75.0   55000.0"
      ]
     },
     "execution_count": 141,
     "metadata": {},
     "output_type": "execute_result"
    }
   ],
   "source": [
    "df.drop_duplicates(inplace=True) #Eliminar duplicados\n",
    "df"
   ]
  },
  {
   "cell_type": "code",
   "execution_count": 143,
   "metadata": {},
   "outputs": [],
   "source": [
    "data = {\n",
    "    \"A\" : [1,2,3,4,5],\n",
    "    \"B\" : [5,4,3,2,1],\n",
    "    \"C\" : [2,4,6,8,10]\n",
    "}"
   ]
  },
  {
   "cell_type": "code",
   "execution_count": 144,
   "metadata": {},
   "outputs": [],
   "source": [
    "df=pd.DataFrame(data)"
   ]
  },
  {
   "cell_type": "code",
   "execution_count": 145,
   "metadata": {},
   "outputs": [
    {
     "data": {
      "text/html": [
       "<div>\n",
       "<style scoped>\n",
       "    .dataframe tbody tr th:only-of-type {\n",
       "        vertical-align: middle;\n",
       "    }\n",
       "\n",
       "    .dataframe tbody tr th {\n",
       "        vertical-align: top;\n",
       "    }\n",
       "\n",
       "    .dataframe thead th {\n",
       "        text-align: right;\n",
       "    }\n",
       "</style>\n",
       "<table border=\"1\" class=\"dataframe\">\n",
       "  <thead>\n",
       "    <tr style=\"text-align: right;\">\n",
       "      <th></th>\n",
       "      <th>A</th>\n",
       "      <th>B</th>\n",
       "      <th>C</th>\n",
       "    </tr>\n",
       "  </thead>\n",
       "  <tbody>\n",
       "    <tr>\n",
       "      <th>0</th>\n",
       "      <td>1</td>\n",
       "      <td>5</td>\n",
       "      <td>2</td>\n",
       "    </tr>\n",
       "    <tr>\n",
       "      <th>1</th>\n",
       "      <td>2</td>\n",
       "      <td>4</td>\n",
       "      <td>4</td>\n",
       "    </tr>\n",
       "    <tr>\n",
       "      <th>2</th>\n",
       "      <td>3</td>\n",
       "      <td>3</td>\n",
       "      <td>6</td>\n",
       "    </tr>\n",
       "    <tr>\n",
       "      <th>3</th>\n",
       "      <td>4</td>\n",
       "      <td>2</td>\n",
       "      <td>8</td>\n",
       "    </tr>\n",
       "    <tr>\n",
       "      <th>4</th>\n",
       "      <td>5</td>\n",
       "      <td>1</td>\n",
       "      <td>10</td>\n",
       "    </tr>\n",
       "  </tbody>\n",
       "</table>\n",
       "</div>"
      ],
      "text/plain": [
       "   A  B   C\n",
       "0  1  5   2\n",
       "1  2  4   4\n",
       "2  3  3   6\n",
       "3  4  2   8\n",
       "4  5  1  10"
      ]
     },
     "execution_count": 145,
     "metadata": {},
     "output_type": "execute_result"
    }
   ],
   "source": [
    "df"
   ]
  },
  {
   "cell_type": "code",
   "execution_count": 147,
   "metadata": {},
   "outputs": [
    {
     "data": {
      "text/html": [
       "<div>\n",
       "<style scoped>\n",
       "    .dataframe tbody tr th:only-of-type {\n",
       "        vertical-align: middle;\n",
       "    }\n",
       "\n",
       "    .dataframe tbody tr th {\n",
       "        vertical-align: top;\n",
       "    }\n",
       "\n",
       "    .dataframe thead th {\n",
       "        text-align: right;\n",
       "    }\n",
       "</style>\n",
       "<table border=\"1\" class=\"dataframe\">\n",
       "  <thead>\n",
       "    <tr style=\"text-align: right;\">\n",
       "      <th></th>\n",
       "      <th>A</th>\n",
       "      <th>B</th>\n",
       "      <th>C</th>\n",
       "    </tr>\n",
       "  </thead>\n",
       "  <tbody>\n",
       "    <tr>\n",
       "      <th>A</th>\n",
       "      <td>1.0</td>\n",
       "      <td>-1.0</td>\n",
       "      <td>1.0</td>\n",
       "    </tr>\n",
       "    <tr>\n",
       "      <th>B</th>\n",
       "      <td>-1.0</td>\n",
       "      <td>1.0</td>\n",
       "      <td>-1.0</td>\n",
       "    </tr>\n",
       "    <tr>\n",
       "      <th>C</th>\n",
       "      <td>1.0</td>\n",
       "      <td>-1.0</td>\n",
       "      <td>1.0</td>\n",
       "    </tr>\n",
       "  </tbody>\n",
       "</table>\n",
       "</div>"
      ],
      "text/plain": [
       "     A    B    C\n",
       "A  1.0 -1.0  1.0\n",
       "B -1.0  1.0 -1.0\n",
       "C  1.0 -1.0  1.0"
      ]
     },
     "execution_count": 147,
     "metadata": {},
     "output_type": "execute_result"
    }
   ],
   "source": [
    "df.corr() # Coeficiente de correlación"
   ]
  },
  {
   "attachments": {},
   "cell_type": "markdown",
   "metadata": {},
   "source": [
    "# Matplotlib"
   ]
  },
  {
   "cell_type": "code",
   "execution_count": 148,
   "metadata": {},
   "outputs": [
    {
     "name": "stdout",
     "output_type": "stream",
     "text": [
      "Requirement already satisfied: matplotlib in c:\\python311\\lib\\site-packages (3.7.1)\n",
      "Requirement already satisfied: contourpy>=1.0.1 in c:\\python311\\lib\\site-packages (from matplotlib) (1.1.0)\n",
      "Requirement already satisfied: cycler>=0.10 in c:\\python311\\lib\\site-packages (from matplotlib) (0.11.0)\n",
      "Requirement already satisfied: fonttools>=4.22.0 in c:\\python311\\lib\\site-packages (from matplotlib) (4.40.0)\n",
      "Requirement already satisfied: kiwisolver>=1.0.1 in c:\\python311\\lib\\site-packages (from matplotlib) (1.4.4)\n",
      "Requirement already satisfied: numpy>=1.20 in c:\\python311\\lib\\site-packages (from matplotlib) (1.25.0)\n",
      "Requirement already satisfied: packaging>=20.0 in c:\\users\\denis\\appdata\\roaming\\python\\python311\\site-packages (from matplotlib) (23.1)\n",
      "Requirement already satisfied: pillow>=6.2.0 in c:\\python311\\lib\\site-packages (from matplotlib) (9.5.0)\n",
      "Requirement already satisfied: pyparsing>=2.3.1 in c:\\python311\\lib\\site-packages (from matplotlib) (3.1.0)\n",
      "Requirement already satisfied: python-dateutil>=2.7 in c:\\users\\denis\\appdata\\roaming\\python\\python311\\site-packages (from matplotlib) (2.8.2)\n",
      "Requirement already satisfied: six>=1.5 in c:\\users\\denis\\appdata\\roaming\\python\\python311\\site-packages (from python-dateutil>=2.7->matplotlib) (1.16.0)\n",
      "Note: you may need to restart the kernel to use updated packages.\n"
     ]
    }
   ],
   "source": [
    "pip install matplotlib"
   ]
  },
  {
   "cell_type": "code",
   "execution_count": 149,
   "metadata": {},
   "outputs": [],
   "source": [
    "import matplotlib as plt"
   ]
  },
  {
   "cell_type": "code",
   "execution_count": 150,
   "metadata": {},
   "outputs": [],
   "source": [
    "import matplotlib.pyplot as plt"
   ]
  },
  {
   "attachments": {},
   "cell_type": "markdown",
   "metadata": {},
   "source": [
    "### Plot"
   ]
  },
  {
   "cell_type": "code",
   "execution_count": null,
   "metadata": {},
   "outputs": [],
   "source": [
    "import numpy as np\n",
    "puntos_x = np.array([0,4,8,16])\n",
    "puntos_y = np.array([6,12,24,])"
   ]
  }
 ],
 "metadata": {
  "kernelspec": {
   "display_name": "Python 3",
   "language": "python",
   "name": "python3"
  },
  "language_info": {
   "codemirror_mode": {
    "name": "ipython",
    "version": 3
   },
   "file_extension": ".py",
   "mimetype": "text/x-python",
   "name": "python",
   "nbconvert_exporter": "python",
   "pygments_lexer": "ipython3",
   "version": "3.11.4"
  },
  "orig_nbformat": 4
 },
 "nbformat": 4,
 "nbformat_minor": 2
}
